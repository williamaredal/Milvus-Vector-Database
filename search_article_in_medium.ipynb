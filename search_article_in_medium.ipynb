{
 "cells": [
  {
   "cell_type": "markdown",
   "id": "840335ab",
   "metadata": {},
   "source": [
    "## 0. Overview\n",
    "We will use Milvus and Towhee to help searches. Towhee is used to extract the semantics of the text and return the text embedding. The Milvus vector database can store and search vectors, and return related dataset's metadata. So we first need to install [Milvus](https://github.com/milvus-io/milvus) and [Towhee](https://github.com/towhee-io/towhee).\n",
    "\n",
    "Before getting started, please make sure that you have started a [Milvus service](https://milvus.io/docs/install_standalone-docker.md). This notebook uses [milvus 2.2.10](https://milvus.io/docs/v2.2.x/install_standalone-docker.md) and [pymilvus 2.2.11](https://milvus.io/docs/release_notes.md#2210)."
   ]
  },
  {
   "cell_type": "markdown",
   "id": "f10be207",
   "metadata": {},
   "source": [
    "### Package installations"
   ]
  },
  {
   "cell_type": "code",
   "execution_count": null,
   "id": "ff0b463e",
   "metadata": {},
   "outputs": [],
   "source": [
    "#! pip install --upgrade pip\n",
    "#! pip3 install -q towhee pymilvus==2.2.11\n",
    "#! pip3 uninstall pymilvus -y\n",
    "\n",
    "! pip3 install -q towhee pymilvus==2.1.1\n",
    "! pip3 show pymilvus | grep -Ei 'Name:|Version:'\n",
    "! pip3 show towhee | grep -Ei 'Name:|Version:'"
   ]
  },
  {
   "cell_type": "markdown",
   "id": "8aa1052d",
   "metadata": {},
   "source": [
    "## 1.1 Adding embeddings for columns\n",
    "\n",
    "The dataset is from the [Kartverket dataset metadata](https://cdn.discordapp.com/attachments/1204433663035449384/1206537816654356480/metadata_no_format.csv?ex=65dc5ee7&is=65c9e9e7&hm=3b9a88db41103ef5393294c5eaeebb60ee2229f43724cc014d4cffc92de1f384&), which contains metadata about each dataset.\n",
    "\n",
    "The strings in the columns need to be converted to vector representations (embedding) using Towhee [text_embedding.dpr operator](https://towhee.io/text-embedding/dpr). Columns containing these new embedings should contain the original column name with `_vector` at the end."
   ]
  },
  {
   "cell_type": "markdown",
   "id": "9feae67f",
   "metadata": {},
   "source": [
    "### NB In case pandas cannot read the csv, due to a delimiter parsing error\n",
    "\n",
    "Use the code below to reformat the delimiters to \"|\", `NB! Also replace the excess ones inside sentences that replaced the regular commas.`"
   ]
  },
  {
   "cell_type": "code",
   "execution_count": null,
   "id": "6dd32417",
   "metadata": {},
   "outputs": [],
   "source": [
    "# Cell for reformatting the delimiters to \"|\"\n",
    "import re\n",
    "import csv\n",
    "\n",
    "def replace_delimiter(input_file, output_file):\n",
    "    with open(input_file, 'r', encoding='utf-8') as file:\n",
    "        content = file.read()\n",
    "\n",
    "    # Regular expression to match commas not inside double quotes\n",
    "    pattern = r',(?=(?:[^\"]*\"[^\"]*\")*[^\"]*$)'\n",
    "\n",
    "    # Replace the matched commas with '|'\n",
    "    new_content = re.sub(pattern, '|', content)\n",
    "\n",
    "    with open(output_file, 'w', encoding='utf-8') as file:\n",
    "        file.write(new_content)\n",
    "\n",
    "# Replace this with your actual file paths\n",
    "input_file = 'metadata.csv'\n",
    "output_file = 'output_metadata_modified.csv'\n",
    "\n",
    "replace_delimiter(input_file, output_file)\n"
   ]
  },
  {
   "cell_type": "markdown",
   "id": "15b7d464",
   "metadata": {},
   "source": [
    "## Load dataset and vectorise chosen column"
   ]
  },
  {
   "cell_type": "code",
   "execution_count": 8,
   "id": "a41e0667",
   "metadata": {},
   "outputs": [
    {
     "name": "stderr",
     "output_type": "stream",
     "text": [
      "Processing column: 100%|██████████| 1/1 [00:08<00:00,  8.72s/column]"
     ]
    },
    {
     "name": "stdout",
     "output_type": "stream",
     "text": [
      "Column Types and Example Row:\n",
      "Column: schema, Type: object, Example: iso19139\n",
      "Column: uuid, Type: object, Example: 7a62f16f-9aeb-4c39-bf5f-e710232fa366\n",
      "Column: id, Type: int64, Example: 37228\n",
      "Column: hierarchyLevel, Type: object, Example: software\n",
      "Column: title, Type: object, Example: Artsfunn\n",
      "Column: datasetcreationdate, Type: object, Example: \n",
      "Column: abstract, Type: object, Example: Datasettet inneholder stedfestet informasjon av arter samlet inn av NINA. Funndataene følger datastandarden Darwin Core Archive (se http://rs.tdwg.org/dwc/ for detaljer) og distribueres også via Artsdatabankens Artskart (https://artskart.artsdatabanken.no/default.aspx), Global Biodiversity Information Facility (GBIF, http://www.gbif.org/) og GBIF Norge (http://www.gbif.no/).\n",
      "Column: keyword, Type: object, Example: Natur###Norge###Svalbard###lav###karplanter###botanikkdata###innsekter###vannlevende innsekter###fisk###vannlevende planter###biologisk mangfold###arter###artsfunn###rødlistearter###fremmede arter###truete arter###artsfordeling\n",
      "Column: geoBox, Type: object, Example: 2###33###57###81\n",
      "Column: Constraints, Type: object, Example: ###\n",
      "Column: SecurityConstraints, Type: object, Example: #########\n",
      "Column: LegalConstraints, Type: object, Example: Tilgangsrestriksjoner Andre restriksjoner: Limitation not listed######Andre restriksjonerÅpne data###Åpne data###Brukerrestriksjoner Andre restriksjoner: Limitation not listed######Andre restriksjonerCreative Commons BY 4.0 (CC BY 4.0)###Creative Commons BY 4.0 (CC BY 4.0)######\n",
      "Column: temporalExtent, Type: object, Example: 0001-01-01now\n",
      "Column: image, Type: object, Example: https://editor.geonorge.no/thumbnails/7a62f16f-9aeb-4c39-bf5f-e710232fa366_20160929151806_mini_artsfunn.PNG###https://editor.geonorge.no/thumbnails/7a62f16f-9aeb-4c39-bf5f-e710232fa366_20160929151806_artsfunn.PNG\n",
      "Column: responsibleParty, Type: object, Example: Frank HansenNorsk institutt for naturforskningfrank.hanssen@nina.no###Frank HansenNorsk institutt for naturforskningfrank.hanssen@nina.no\n",
      "Column: link, Type: object, Example: ###https://ipt.nina.no/\n",
      "Column: metadatacreationdate, Type: object, Example: 2021-03-24 00:00:00\n",
      "Column: productInformation, Type: object, Example: Produktspesifikasjon###Produktark###Produktside###Tegnforklaring###dekningsoversikt###hjelp\n",
      "Column: parentId, Type: object, Example: \n",
      "Column: title_vector, Type: object, Example: [ 5.61397731e-01  3.47551256e-01  1.46404237e-01  1.97791398e-01\n",
      " -3.14265639e-01 -1.50110386e-02  2.44805574e-01  2.04237059e-01\n",
      " -2.02155307e-01 -7.31078088e-01 -2.27418795e-01  7.62172699e-01\n",
      "  2.88290143e-01 -1.03980444e-01 -1.67712271e-01  1.66190326e-01\n",
      " -2.13300526e-01  4.33040857e-01  1.57981336e-01 -5.08048534e-01\n",
      " -3.91575813e-01 -3.65288287e-01  3.51507932e-01 -3.82235646e-01\n",
      "  2.87352413e-01 -2.24721313e-01  2.97616422e-03 -2.90836573e-01\n",
      " -2.78670549e-01 -6.18284866e-02 -1.81433260e-01 -2.04019435e-03\n",
      " -1.88988313e-01 -2.99010545e-01 -6.11363888e-01 -1.79649249e-01\n",
      " -1.71653986e-01 -1.25999704e-01  2.15765893e-01 -5.14737308e-01\n",
      " -7.69355521e-02 -6.16991818e-01  5.25192440e-01  1.72210395e-01\n",
      " -3.28375325e-02 -4.23952252e-01 -2.15362096e+00  3.44030291e-01\n",
      " -2.35415608e-01  4.06346440e-01  1.86613947e-01  5.96314788e-01\n",
      "  4.68626618e-01  2.63641596e-01  4.11720201e-02  8.28739285e-01\n",
      " -1.07880719e-01  7.02164471e-01  2.65171796e-01 -1.50116906e-01\n",
      "  3.75543624e-01  1.22635975e-01 -1.12033561e-01  1.69546366e-01\n",
      " -1.16077043e-01  2.42052406e-01 -1.19608700e-01  2.37730205e-01\n",
      " -2.95327753e-01 -2.91637748e-01  6.16497695e-01 -2.60513216e-01\n",
      "  4.42420006e-01 -1.69445574e-01  7.36385807e-02 -5.41591942e-02\n",
      "  7.13119581e-02 -3.50333482e-01  2.09823087e-01  2.29398422e-02\n",
      " -8.78260285e-02 -5.99034876e-02  6.74195349e-01  5.36816001e-01\n",
      "  3.47893387e-01  2.16944247e-01  6.95419312e-02 -1.80013850e-01\n",
      " -2.21680000e-01  3.47686052e-01 -3.25964317e-02 -1.88001037e-01\n",
      "  5.87709427e-01  6.02979064e-02  4.69757140e-01 -1.85279310e-01\n",
      "  1.03106424e-01 -1.42976120e-01 -1.18537396e-01  1.51789755e-01\n",
      " -5.11645436e-01 -8.80315155e-02  4.74299565e-02 -4.81242836e-01\n",
      " -4.57017392e-01  2.29646087e-01  3.99380848e-02  3.34684253e-02\n",
      " -7.09545985e-03 -7.96064317e-01 -2.38349229e-01  3.44197869e-01\n",
      " -4.99162436e-01 -6.77168518e-02  3.10771525e-01 -9.69853550e-02\n",
      "  7.52067864e-02  8.12038481e-02 -2.62017310e-01  2.77086377e-01\n",
      "  6.04123116e-01  6.93222165e-01  3.96818995e-01 -4.57733348e-02\n",
      "  1.92735568e-01  1.38382807e-01  4.46922719e-01  3.06573898e-01\n",
      " -6.73546344e-02 -2.04600960e-01  6.36583269e-01  4.38646734e-01\n",
      " -6.93415478e-02 -4.39439774e-01  1.20849386e-02 -3.22996974e-01\n",
      "  3.83523405e-01  2.09317565e-01 -1.46785438e-01  7.64915198e-02\n",
      " -3.47093254e-01 -5.78349054e-01 -1.65973699e+00 -8.79676640e-02\n",
      "  1.45913437e-01 -7.64879227e-01  1.62583888e-01 -3.20483387e-01\n",
      "  3.66424173e-01  2.49339938e-01  3.08129549e-01 -1.84930302e-02\n",
      " -6.35418713e-01 -1.24864623e-01  4.18850511e-01  2.90056825e-01\n",
      "  5.58782637e-01 -3.15685540e-01  1.88548833e-01  2.97390401e-01\n",
      " -5.07154822e-01 -2.92835504e-01 -5.11465892e-02 -6.12461686e-01\n",
      " -1.44918561e-02 -6.18485034e-01  1.55523615e-02  2.81885386e-01\n",
      " -3.20241868e-01  3.48301053e-01 -9.89278853e-02  2.91735716e-02\n",
      " -9.66372564e-02 -5.47934324e-02  1.25754058e-01  3.17321688e-01\n",
      "  7.19416678e-01  2.54616261e-01  2.55498648e-01  2.91528374e-01\n",
      " -3.79747689e-01  8.29912648e-02 -7.32432157e-02 -1.97292328e-01\n",
      "  2.84239173e-01 -1.25349104e-01  3.30770612e-01 -1.03626344e-02\n",
      "  4.86221254e-01  3.23587984e-01 -6.56180382e-01 -7.74760917e-02\n",
      "  6.38602078e-01 -3.96262467e-01  5.95262349e-01 -5.81888184e-02\n",
      " -6.09128356e-01  7.31056988e-01  8.27262700e-02  2.83361942e-01\n",
      "  7.38606513e-01 -5.64348847e-02  1.22520775e-01 -5.81811905e-01\n",
      " -4.22484815e-01  1.44724631e+00  5.86659834e-03 -1.39774457e-01\n",
      " -2.90899962e-01 -1.22038960e-01  4.77876186e-01  1.47957444e-01\n",
      " -1.82995200e-01 -2.06509009e-02  2.17061564e-01 -9.72201303e-02\n",
      " -2.19218761e-01  1.00620836e-02  2.78871477e-01 -2.80922264e-01\n",
      "  3.19730848e-01 -1.23616345e-02  3.89855206e-01  1.05521321e-01\n",
      " -2.61307091e-01  4.94908810e-01 -3.94466341e-01  2.34292135e-01\n",
      "  1.78889513e-01 -6.76427305e-01 -1.96366847e-01 -2.70534366e-01\n",
      " -1.68713599e-01 -2.79498398e-02 -7.41734430e-02  2.03277633e-01\n",
      "  3.03254247e-01  2.73427844e-01  3.53818983e-01 -2.22638756e-01\n",
      " -2.19691187e-01  2.21012622e-01 -2.49829188e-01  2.69087225e-01\n",
      " -4.96929079e-01  6.36492372e-01 -2.32079960e-02  4.99431670e-01\n",
      " -4.65671778e-01  2.38248765e-01  3.45086306e-01 -8.08635205e-02\n",
      " -5.74391149e-02  1.13973103e-01 -1.19101629e-01 -1.26943097e-01\n",
      " -3.57889116e-01 -4.06912327e-01 -2.79327571e-01 -1.30216181e-02\n",
      "  1.50366679e-01 -3.73018324e-01 -9.94576365e-02  3.59751403e-01\n",
      "  3.83921444e-01 -3.84587228e-01 -4.92183119e-02 -6.32431388e-01\n",
      "  5.46475410e-01 -3.29288244e-02 -1.62107885e-01  6.35223925e-01\n",
      " -4.88128141e-02 -1.63912904e+00  2.51288235e-01 -1.91170290e-01\n",
      "  5.71982086e-01  6.61212299e-03 -1.30885899e-01 -1.21982500e-01\n",
      " -1.42158270e-01  6.46365285e-01  6.56828344e-01  5.06571755e-02\n",
      "  1.02198564e-01 -3.55167866e-01  1.27384126e-01 -4.87769485e-01\n",
      " -5.16490936e-02  2.26938799e-01 -1.00365430e-01 -3.22685719e-01\n",
      "  4.42352034e-02 -3.69634628e-01  4.17538255e-01 -2.29925811e-01\n",
      " -3.56250137e-01  3.60793263e-01 -7.48463869e-01  2.60382649e-02\n",
      "  1.04576319e-01  6.64100051e-01 -1.32303089e-01 -1.80966854e-01\n",
      " -9.82152000e-02 -1.19319797e-01 -6.32469773e-01 -2.50775218e-01\n",
      " -5.89182186e+00 -1.52434766e-01 -5.34600168e-02 -3.95649016e-01\n",
      " -1.74134806e-01 -2.57019460e-01 -1.14194930e-01 -2.83785909e-01\n",
      "  7.07518980e-02 -5.58569252e-01  4.99388456e-01  1.80800110e-01\n",
      " -2.74022780e-02  1.05771206e-01  8.10364559e-02  1.07249066e-01\n",
      "  2.45217204e-01 -1.81133881e-01  2.85581648e-02  4.94272351e-01\n",
      " -4.34558123e-01 -1.98849201e-01  3.08586955e-01  3.54764879e-01\n",
      "  5.60105622e-01 -1.18633538e-01 -3.26934367e-01  8.45458433e-02\n",
      " -2.19668627e-01  6.40002713e-02 -1.18570089e-01  9.42082852e-02\n",
      " -9.80124529e-03  3.07304323e-01  1.77746654e-01 -1.35179639e-01\n",
      "  9.78094220e-01 -5.64855449e-02  7.88168013e-01 -7.53900409e-01\n",
      " -6.53783679e-02  4.61845249e-01 -6.86842203e-01 -4.37586129e-01\n",
      "  4.19984788e-01 -5.02483726e-01 -1.65002435e-01  1.03212439e-01\n",
      " -6.24697581e-02 -1.68754309e-02  1.35964081e-02 -2.47893691e-01\n",
      "  6.80276752e-01  1.22854114e-01  8.90428647e-02 -2.40589693e-01\n",
      " -3.61379758e-02  5.30670345e-01  3.43001813e-01 -2.03049988e-01\n",
      "  2.93395996e-01  8.10563564e-02  1.98022634e-01 -7.17303455e-02\n",
      " -2.03109443e-01  2.53483355e-01 -2.24399805e-01  1.13347203e-01\n",
      "  3.58604401e-01  3.24398428e-01 -5.86244762e-02 -1.29030049e-01\n",
      "  2.41179585e-01 -8.35358679e-01  2.17260584e-01  2.59254575e-01\n",
      " -7.53441080e-02 -1.83135003e-01  3.64552647e-01 -1.19527146e-01\n",
      " -3.17907572e-01 -4.28430438e-01  3.26683372e-01 -6.71022683e-02\n",
      " -4.34531532e-02 -8.21883604e-03 -2.76914954e-01 -3.78059968e-02\n",
      " -8.40960369e-02  6.41966105e-01  3.20379317e-01 -2.67680287e-01\n",
      "  2.94214934e-02  3.07040483e-01  4.14960176e-01  1.17183283e-01\n",
      "  9.39576983e-01 -2.68413961e-01 -1.58168063e-01 -3.41417104e-01\n",
      "  6.20065331e-01 -1.11083575e-01  1.69514701e-01 -2.25232393e-01\n",
      " -1.86187297e-01 -1.99517012e-01 -5.13695851e-02  2.44140625e-01\n",
      "  1.02336240e+00 -3.71241212e-01 -4.28427011e-01  4.00335938e-01\n",
      " -4.02942747e-01  4.80429798e-01  6.88540399e-01 -1.57041445e-01\n",
      " -1.97896063e-01 -2.21524641e-01  1.86070979e-01  7.99622387e-02\n",
      "  1.36614889e-01  7.17951655e-02 -1.15814589e-01 -1.23910591e-01\n",
      "  2.46747062e-02  3.50228310e-01  1.03533521e-01  3.74022365e-01\n",
      " -4.01202261e-01 -1.19681150e-01 -4.65020277e-02  3.03427540e-02\n",
      "  1.75916463e-01 -5.14413863e-02  8.47090036e-02 -1.04794599e-01\n",
      "  7.96642452e-02 -2.12087601e-01 -2.35551462e-01 -3.26924205e-01\n",
      "  3.33002448e-01  3.53626966e-01  1.08795539e-01  4.55677122e-01\n",
      "  5.26418030e-01  4.73542750e-01 -1.31001219e-01 -1.72140419e-01\n",
      " -4.74952877e-01  5.64576507e-01 -4.15854342e-03  9.83032137e-02\n",
      "  2.74098366e-01  1.28108159e-01  6.32297918e-02  3.48649085e-01\n",
      " -2.64145255e-01 -3.04494143e-01 -2.38810003e-01 -3.10916930e-01\n",
      "  3.13462347e-01 -1.77289173e-02 -1.53885663e+00  1.81811154e-01\n",
      "  2.58845091e-01 -9.07964528e-01 -1.73113659e-01 -3.06293696e-01\n",
      " -5.76336801e-01  9.31962132e-02  2.97224611e-01  1.07015327e-01\n",
      " -2.34764695e-01 -1.66540235e-01 -1.17867850e-01 -3.44063938e-01\n",
      " -7.50541329e-01  1.23007577e-02  1.95037574e-01 -1.41033188e-01\n",
      "  3.90578657e-01 -2.22304076e-01  1.71443462e-01 -5.57648897e-01\n",
      "  8.94926339e-02 -4.58785176e-01 -4.31273609e-01 -1.29167527e-01\n",
      "  1.19044967e-02  4.65090930e-01 -8.01045075e-03 -4.02227461e-01\n",
      "  2.16725945e-01 -8.13040435e-02 -1.94484800e-01 -1.39279455e-01\n",
      "  2.79191017e-01  2.56802559e-01 -2.70677190e-02  7.98322484e-02\n",
      "  3.17444429e-02  2.37832323e-01 -9.09883380e-01 -9.31009576e-02\n",
      "  4.69772238e-03  9.67704803e-02  3.98821950e-01 -2.11911649e-02\n",
      "  7.02606663e-02  2.40754168e-02  1.95577919e-01 -7.53701106e-02\n",
      " -1.19101442e-01 -1.23077080e-01  2.41534889e-01 -3.34148437e-01\n",
      "  1.02884628e-01 -9.15664136e-02 -5.72407901e-01 -5.73591888e-01\n",
      "  2.81449974e-01 -1.37005329e-01 -6.84382915e-01  3.74617726e-01\n",
      " -6.98431209e-02 -3.56651217e-01  3.01481098e-01 -3.80253226e-01\n",
      " -1.69932544e-01 -2.15735018e-01  4.61158842e-01  2.14982718e-01\n",
      "  2.42450848e-01  7.84019649e-01  1.69213325e-01  3.74241895e-03\n",
      " -1.59394771e-01  2.83948302e-01 -1.31532878e-01 -4.25194234e-01\n",
      "  4.60165173e-01  3.06171656e-01 -2.58277386e-01  1.10224746e-01\n",
      "  1.41165107e-01  4.10883904e-01  4.90752123e-02 -1.64534107e-01\n",
      " -1.60714120e-01 -1.29905678e-02 -4.32598367e-02 -3.30690593e-01\n",
      " -9.58860815e-02 -2.81346858e-01  3.36126864e-01 -6.51621938e-01\n",
      "  1.30048096e-01  1.62216187e-01 -9.52958018e-02 -2.57426873e-04\n",
      " -2.56573528e-01  1.56098098e-01 -3.43014598e-01  2.32772857e-01\n",
      "  4.18930426e-02  1.74658418e-01 -1.71933129e-01 -5.51511586e-01\n",
      "  1.19022496e-01 -3.96959811e-01  1.15708925e-01  2.71996081e-01\n",
      "  3.28509510e-02  6.14327788e-01  4.81195338e-02 -3.36675912e-01\n",
      " -3.82590711e-01 -2.52978206e-02  6.12009317e-02  1.39887691e-01\n",
      "  7.12148130e-01 -2.83996969e-01 -3.44885528e-01 -3.47704232e-01\n",
      " -1.11691713e-01 -8.07047725e-01  4.77710873e-01  4.58858013e-02\n",
      " -4.98208404e-01  1.54136851e-01  1.75669149e-01  1.70607686e-01\n",
      " -1.34235665e-01 -2.59657443e-01  9.04724523e-02  4.18210447e-01\n",
      "  1.61098823e-01 -1.29778266e-01 -1.06203789e-02 -2.63017982e-01\n",
      " -3.65436554e-01  1.70396090e-01  8.92009914e-01 -1.49834618e-01\n",
      "  2.22658902e-01  9.05744284e-02  1.85796060e-02 -1.29064545e-02\n",
      " -2.54197359e-01 -1.76607803e-01 -4.77418840e-01 -2.77229637e-01\n",
      " -3.25114727e-02  3.43087912e-02 -5.70820451e-01  1.71987429e-01\n",
      "  7.06407189e-01 -4.47344065e-01  7.43697733e-02  2.13476926e-01\n",
      " -2.11763740e-01  8.71435627e-02  3.85080218e-01  1.07668549e-01\n",
      " -6.73567504e-02  3.00691873e-01 -1.87779963e-02 -1.54761508e-01\n",
      "  3.81851345e-01 -1.22413486e-01  1.04515441e-01  2.71183312e-01\n",
      " -5.87793291e-01 -4.32916693e-02  3.83123249e-01 -3.63708138e-01\n",
      "  1.70959070e-01 -2.64917284e-01 -2.82783300e-01  3.30795437e-01\n",
      "  6.09945416e-01  3.02235521e-02  3.25027198e-01  5.16172312e-02\n",
      " -2.12021619e-01  3.18948716e-01  1.58694997e-01 -7.79221952e-02\n",
      " -4.92687821e-01 -6.83579147e-02  4.50792968e-01 -2.15142950e-01\n",
      " -1.83060482e-01 -2.07061060e-02  3.25606525e-01 -1.67407334e-01\n",
      "  2.17105538e-01  7.46310055e-02 -1.34788871e-01 -1.11719203e+00\n",
      "  1.90266028e-01  3.47676218e-01  2.33466506e-01  2.01292917e-01\n",
      " -7.34646842e-02  1.46644861e-01 -1.68444172e-01  2.71970965e-03\n",
      " -4.50487226e-01  3.10083181e-01 -2.18582630e-01  2.88933069e-01\n",
      " -3.01001258e-02  4.23977822e-02 -3.22084248e-01  1.01667866e-01\n",
      "  3.75076473e-01  2.75398850e-01  3.06949705e-01  1.79721743e-01\n",
      " -2.30083019e-02 -2.25891918e-01 -2.60644287e-01  6.67525083e-02\n",
      "  3.41657847e-01  9.08429250e-02  1.16765313e-02 -1.99317425e-01\n",
      " -1.33608088e-01 -4.89378929e-01  1.24900505e-01  1.64677560e-01\n",
      " -7.29796290e-03  2.25861639e-01 -1.25905842e-01  2.79715300e-01\n",
      " -4.37378168e-01  1.01916170e+00 -2.95189947e-01  2.61625081e-01\n",
      "  1.63413316e-01  7.66053021e-01  8.53165612e-02  5.69398224e-01\n",
      " -7.12475955e-01 -1.56029016e-02 -4.37083989e-01 -5.98101020e-01\n",
      " -1.83686465e-02  2.53846854e-01  1.05739735e-01 -7.41586387e-02\n",
      " -1.40691772e-02 -2.04745844e-01 -2.82199651e-01  2.77917087e-02\n",
      "  6.80404186e-01 -4.56813872e-02  2.26754367e-01  8.83901268e-02\n",
      "  1.09518096e-01  2.40318462e-01  3.08211178e-01  2.19797745e-01\n",
      " -3.65472794e-01  1.61746264e-01  4.67213988e-01  3.71058047e-01\n",
      "  2.84686893e-01  2.88167506e-01 -3.56444389e-01 -4.26954597e-01\n",
      " -3.21987689e-01  5.27698517e-01 -3.41714025e-01  1.82242289e-01\n",
      "  1.27541989e-01 -1.45072773e-01  2.16164924e-02 -2.27542654e-01\n",
      " -2.92227030e-01 -2.91577399e-01 -8.47283751e-03  1.24165148e-01\n",
      " -3.40252113e+00 -1.64702863e-01  7.41831139e-02 -2.21317381e-01\n",
      " -2.00622380e-01  3.10184032e-01  6.21021837e-02 -3.17186117e-01\n",
      "  5.01655996e-01 -1.06034623e-02 -2.37294734e-01  5.82536101e-01\n",
      "  4.00970668e-01 -5.54271519e-01  2.44684607e-01 -1.50024876e-01]\n"
     ]
    },
    {
     "name": "stderr",
     "output_type": "stream",
     "text": [
      "\n"
     ]
    }
   ],
   "source": [
    "import pandas as pd\n",
    "from towhee import pipe, ops, DataCollection\n",
    "from tqdm import tqdm\n",
    "\n",
    "\n",
    "# Function to compute embeddings for a single text\n",
    "def compute_embeddings(text):\n",
    "    MAX_TOKENS = 512 # Temporary limit on number characters to convert\n",
    "    truncated_text = text[:MAX_TOKENS]\n",
    "    return DataCollection(embeddings_pipe(truncated_text)).to_list()[0]['vec']\n",
    "\n",
    "\n",
    "# Loads dataset into dataframe and recasts columns into correct datatypes\n",
    "df_kartverket = pd.read_excel('Metadata_excel.xlsx')\n",
    "recast_to_string = ['datasetcreationdate', 'metadatacreationdate']\n",
    "df_kartverket[recast_to_string] = df_kartverket[recast_to_string].astype('object')\n",
    "\n",
    "# Fill NaN values with an empty string\n",
    "df_kartverket.fillna('', inplace=True)\n",
    "\n",
    "# Pipe converting text to embeddings (vectors)\n",
    "embeddings_pipe = (\n",
    "    pipe.input('text')\n",
    "        .map('text', 'vec', ops.text_embedding.dpr(model_name='facebook/dpr-ctx_encoder-single-nq-base'))\n",
    "        .output('vec')\n",
    ")\n",
    "\n",
    "# Process each column and create new columns for embeddings\n",
    "column_to_vectorise = 'title'\n",
    "df_kartverket[column_to_vectorise + '_vector'] = df_kartverket[column_to_vectorise].apply(compute_embeddings)"
   ]
  },
  {
   "cell_type": "code",
   "execution_count": 6,
   "id": "9d7e1b36",
   "metadata": {},
   "outputs": [
    {
     "name": "stdout",
     "output_type": "stream",
     "text": [
      "Error during insertion: Node-ann-insert/milvus-client-1 runs failed, error msg: <DataTypeNotSupportException: (code=0, message=Field dtype must be of DataType)>, Traceback (most recent call last):\n",
      "  File \"/Library/Frameworks/Python.framework/Versions/3.10/lib/python3.10/site-packages/towhee/runtime/nodes/node.py\", line 158, in _call\n",
      "    return True, self._op(*inputs), None\n",
      "  File \"/Users/williamaredal/.towhee/operators/ann-insert/milvus-client/versions/main/milvus_client.py\", line 52, in __call__\n",
      "    mr = self._collection.insert(row)\n",
      "  File \"/Library/Frameworks/Python.framework/Versions/3.10/lib/python3.10/site-packages/pymilvus/orm/collection.py\", line 544, in insert\n",
      "    if not self._check_insert_data_schema(data):\n",
      "  File \"/Library/Frameworks/Python.framework/Versions/3.10/lib/python3.10/site-packages/pymilvus/orm/collection.py\", line 174, in _check_insert_data_schema\n",
      "    infer_fields = parse_fields_from_data(data)\n",
      "  File \"/Library/Frameworks/Python.framework/Versions/3.10/lib/python3.10/site-packages/pymilvus/orm/schema.py\", line 300, in parse_fields_from_data\n",
      "    fields.append(FieldSchema(\"\", d_type))\n",
      "  File \"/Library/Frameworks/Python.framework/Versions/3.10/lib/python3.10/site-packages/pymilvus/orm/schema.py\", line 175, in __init__\n",
      "    raise DataTypeNotSupportException(0, ExceptionsMessage.FieldDtype)\n",
      "pymilvus.exceptions.DataTypeNotSupportException: <DataTypeNotSupportException: (code=0, message=Field dtype must be of DataType)>\n",
      ", Traceback (most recent call last):\n",
      "  File \"/Library/Frameworks/Python.framework/Versions/3.10/lib/python3.10/site-packages/towhee/runtime/nodes/node.py\", line 171, in process\n",
      "    self.process_step()\n",
      "  File \"/Library/Frameworks/Python.framework/Versions/3.10/lib/python3.10/site-packages/towhee/runtime/nodes/_map.py\", line 63, in process_step\n",
      "    assert succ, msg\n",
      "AssertionError: <DataTypeNotSupportException: (code=0, message=Field dtype must be of DataType)>, Traceback (most recent call last):\n",
      "  File \"/Library/Frameworks/Python.framework/Versions/3.10/lib/python3.10/site-packages/towhee/runtime/nodes/node.py\", line 158, in _call\n",
      "    return True, self._op(*inputs), None\n",
      "  File \"/Users/williamaredal/.towhee/operators/ann-insert/milvus-client/versions/main/milvus_client.py\", line 52, in __call__\n",
      "    mr = self._collection.insert(row)\n",
      "  File \"/Library/Frameworks/Python.framework/Versions/3.10/lib/python3.10/site-packages/pymilvus/orm/collection.py\", line 544, in insert\n",
      "    if not self._check_insert_data_schema(data):\n",
      "  File \"/Library/Frameworks/Python.framework/Versions/3.10/lib/python3.10/site-packages/pymilvus/orm/collection.py\", line 174, in _check_insert_data_schema\n",
      "    infer_fields = parse_fields_from_data(data)\n",
      "  File \"/Library/Frameworks/Python.framework/Versions/3.10/lib/python3.10/site-packages/pymilvus/orm/schema.py\", line 300, in parse_fields_from_data\n",
      "    fields.append(FieldSchema(\"\", d_type))\n",
      "  File \"/Library/Frameworks/Python.framework/Versions/3.10/lib/python3.10/site-packages/pymilvus/orm/schema.py\", line 175, in __init__\n",
      "    raise DataTypeNotSupportException(0, ExceptionsMessage.FieldDtype)\n",
      "pymilvus.exceptions.DataTypeNotSupportException: <DataTypeNotSupportException: (code=0, message=Field dtype must be of DataType)>\n",
      "\n",
      "\n",
      "\n"
     ]
    }
   ],
   "source": [
    "from towhee import pipe, ops\n",
    "\n",
    "def insert_data_to_milvus_with_towhee(df, server_host, server_port, collection_name):\n",
    "    try:\n",
    "        # Define the pipeline\n",
    "        insert_pipe = (pipe.input('data_frame')\n",
    "                       .flat_map('data_frame', 'data', lambda df: df.values.tolist())\n",
    "                       .map('data', 'res', ops.ann_insert.milvus_client(host=server_host, \n",
    "                                                                        port=server_port,\n",
    "                                                                        collection_name=collection_name))\n",
    "                       .output('res'))\n",
    "\n",
    "        # Execute the pipeline\n",
    "        results = insert_pipe(df)\n",
    "        return results\n",
    "    except Exception as e:\n",
    "        print(f\"Error during insertion: {e}\")\n",
    "\n",
    "# Usage\n",
    "server_host = 'ebjerk.no'\n",
    "server_port = '19530'\n",
    "collection_name = 'kartverket_metadata'\n",
    "\n",
    "inserted_ids = insert_data_to_milvus_with_towhee(df_kartverket, server_host, server_port, collection_name)"
   ]
  },
  {
   "cell_type": "markdown",
   "id": "87ac2bbe",
   "metadata": {},
   "source": [
    "## Creation of Milvus collection for metadata"
   ]
  },
  {
   "cell_type": "code",
   "execution_count": 36,
   "id": "e092cbbb",
   "metadata": {},
   "outputs": [],
   "source": [
    "from pymilvus import connections, FieldSchema, CollectionSchema, DataType, Collection, utility\n",
    "\n",
    "server_host = 'ebjerk.no'\n",
    "server_port = '19530'\n",
    "\n",
    "connections.connect(host=server_host, port=server_port)\n",
    "\n",
    "def kartverket_create_milvus_collection(collection_name, dim):\n",
    "    if utility.has_collection(collection_name):\n",
    "        utility.drop_collection(collection_name)\n",
    "\n",
    "    fields = [\n",
    "            #FieldSchema(name='schema', dtype=DataType.STRING, max_length=100), # REQUIRES STRING TYPE \n",
    "            FieldSchema(name='id', dtype=DataType.INT64, is_primary=True, auto_id=False),\n",
    "            #FieldSchema(name='uuid', dtype=DataType.VARCHAR, max_length=100), # REQUIRES STRING TYPE\n",
    "            #FieldSchema(name='hierarchyLevel', dtype=DataType.VARCHAR, max_length=100), # REQUIRES STRING TYPE   \n",
    "            #FieldSchema(name='hierarchyLevel_vector', dtype=DataType.FLOAT_VECTOR, dim=dim), #REQUIRES STRING TYPE   \n",
    "            FieldSchema(name='title', dtype=DataType.VARCHAR, max_length=100),   \n",
    "            FieldSchema(name=\"title_vector\", dtype=DataType.FLOAT_VECTOR, dim=dim),\n",
    "\n",
    "            #FieldSchema(name='datasetcreationdate', dtype=DataType.VARCHAR, max_length=500), # REQUIRES STRING TYPE   \n",
    "            FieldSchema(name='abstract', dtype=DataType.VARCHAR, max_length=2000),   \n",
    "            #FieldSchema(name='abstract_vector', dtype=DataType.FLOAT_VECTOR, dim=dim),   \n",
    "            FieldSchema(name='keyword', dtype=DataType.VARCHAR, max_length=2000),   \n",
    "            #FieldSchema(name='keyword_vector', dtype=DataType.FLOAT_VECTOR, dim=dim),   \n",
    "            #FieldSchema(name='geoBox', dtype=DataType.VARCHAR, max_length=100), # REQUIRES STRING TYPE   \n",
    "            #FieldSchema(name='geoBox_vector', dtype=DataType.FLOAT_VECTOR, dim=dim), # REQUIRES STRING TYPE   \n",
    "            FieldSchema(name='Constraints', dtype=DataType.VARCHAR, max_length=1000),   \n",
    "            #FieldSchema(name='Constraints_vector', dtype=DataType.FLOAT_VECTOR, dim=dim),   \n",
    "\n",
    "            FieldSchema(name='SecurityConstraints', dtype=DataType.VARCHAR, max_length=500),   \n",
    "            #FieldSchema(name='SecurityConstraints_vector', dtype=DataType.FLOAT_VECTOR, dim=dim),   \n",
    "            FieldSchema(name='LegalConstraints', dtype=DataType.VARCHAR, max_length=2000),   \n",
    "            #FieldSchema(name='LegalConstraints_vector', dtype=DataType.FLOAT_VECTOR, dim=dim),   \n",
    "            #FieldSchema(name='temporalExtent', dtype=DataType.VARCHAR, max_length=100), # REQUIRES STRING TYPE   \n",
    "            ##FieldSchema(name='temporalExtent_vector', dtype=DataType.FLOAT_VECTOR, dim=dim), # REQUIRES STRING TYPE   \n",
    "            #FieldSchema(name='image', dtype=DataType.VARCHAR, max_length=1000), # REQUIRES STRING TYPE   \n",
    "            FieldSchema(name='responsibleParty', dtype=DataType.VARCHAR, max_length=500),   \n",
    "            #FieldSchema(name='responsibleParty_vector', dtype=DataType.FLOAT_VECTOR, dim=dim),   \n",
    "\n",
    "            #FieldSchema(name='link', dtype=DataType.VARCHAR, max_length=500), # REQUIRES STRING TYPE   \n",
    "            #FieldSchema(name='metadatacreationdate', dtype=DataType.VARCHAR, max_length=500), # REQUIRES STRING TYPE   \n",
    "            ##FieldSchema(name='metadatacreationdate_vector', dtype=DataType.FLOAT_VECTOR, dim=dim), # REQUIRES STRING TYPE   \n",
    "            FieldSchema(name='productInformation', dtype=DataType.VARCHAR, max_length=1000),   \n",
    "            #FieldSchema(name='productInformation_vector', dtype=DataType.FLOAT_VECTOR, dim=dim),   \n",
    "            FieldSchema(name='parentId', dtype=DataType.VARCHAR, max_length=100),   \n",
    "    ]\n",
    "    schema = CollectionSchema(fields=fields, description='search text')\n",
    "    collection = Collection(name=collection_name, schema=schema)\n",
    "    \n",
    "    index_params = {\n",
    "        'metric_type': \"L2\",\n",
    "        'index_type': \"IVF_FLAT\",\n",
    "        'params': {\"nlist\": 2048}\n",
    "    }\n",
    "    collection.create_index(field_name='title_vector', index_params=index_params)\n",
    "    return collection\n",
    "\n",
    "kartverket_collection = kartverket_create_milvus_collection('kartverket_metadata', 768)"
   ]
  },
  {
   "cell_type": "markdown",
   "id": "6a520d12",
   "metadata": {},
   "source": [
    "### Creation of dataframe subset to exclude columns with complex data types"
   ]
  },
  {
   "cell_type": "code",
   "execution_count": 37,
   "id": "77dc48ed",
   "metadata": {},
   "outputs": [
    {
     "data": {
      "text/html": [
       "<div>\n",
       "<style scoped>\n",
       "    .dataframe tbody tr th:only-of-type {\n",
       "        vertical-align: middle;\n",
       "    }\n",
       "\n",
       "    .dataframe tbody tr th {\n",
       "        vertical-align: top;\n",
       "    }\n",
       "\n",
       "    .dataframe thead th {\n",
       "        text-align: right;\n",
       "    }\n",
       "</style>\n",
       "<table border=\"1\" class=\"dataframe\">\n",
       "  <thead>\n",
       "    <tr style=\"text-align: right;\">\n",
       "      <th></th>\n",
       "      <th>id</th>\n",
       "      <th>title</th>\n",
       "      <th>title_vector</th>\n",
       "      <th>abstract</th>\n",
       "      <th>keyword</th>\n",
       "      <th>Constraints</th>\n",
       "      <th>SecurityConstraints</th>\n",
       "      <th>LegalConstraints</th>\n",
       "      <th>responsibleParty</th>\n",
       "      <th>productInformation</th>\n",
       "      <th>parentId</th>\n",
       "    </tr>\n",
       "  </thead>\n",
       "  <tbody>\n",
       "    <tr>\n",
       "      <th>0</th>\n",
       "      <td>37228</td>\n",
       "      <td>Artsfunn</td>\n",
       "      <td>[0.56139773, 0.34755126, 0.14640424, 0.1977914...</td>\n",
       "      <td>Datasettet inneholder stedfestet informasjon a...</td>\n",
       "      <td>Natur###Norge###Svalbard###lav###karplanter###...</td>\n",
       "      <td>###</td>\n",
       "      <td>#########</td>\n",
       "      <td>Tilgangsrestriksjoner Andre restriksjoner: Lim...</td>\n",
       "      <td>Frank HansenNorsk institutt for naturforskning...</td>\n",
       "      <td>Produktspesifikasjon###Produktark###Produktsid...</td>\n",
       "      <td></td>\n",
       "    </tr>\n",
       "    <tr>\n",
       "      <th>1</th>\n",
       "      <td>21400</td>\n",
       "      <td>Hav og is - Iskart (shapefil)</td>\n",
       "      <td>[0.03226918, 0.60322803, 0.5526991, -0.4393136...</td>\n",
       "      <td>Istjenesten ved Meteorologisk institutt utarbe...</td>\n",
       "      <td>Oceanographic geographical features###Inspire#...</td>\n",
       "      <td>Bruksbegrensninger Ingen begrensninger på bruk...</td>\n",
       "      <td>Sikkerhetsnivå Ugradert: Available for general...</td>\n",
       "      <td>Tilgangsrestriksjoner Andre restriksjoner: Lim...</td>\n",
       "      <td>Meteorologisk instituttistjenesten@met.no###Me...</td>\n",
       "      <td>Produktspesifikasjon###Produktark###Produktsid...</td>\n",
       "      <td></td>\n",
       "    </tr>\n",
       "    <tr>\n",
       "      <th>2</th>\n",
       "      <td>240</td>\n",
       "      <td>Losbordingsfelt</td>\n",
       "      <td>[-0.5165257, 0.32858214, 0.57894915, -0.333858...</td>\n",
       "      <td>Bordingsfelt er angitt som et geografisk punkt...</td>\n",
       "      <td>Åpne data###Norge digitalt###modellbaserteVegp...</td>\n",
       "      <td>###</td>\n",
       "      <td>Sikkerhetsnivå Ugradert: Available for general...</td>\n",
       "      <td>Tilgangsrestriksjoner Andre restriksjoner: Lim...</td>\n",
       "      <td>Stian AamotKystverket37019700Kystveien 30Arend...</td>\n",
       "      <td>https://register.geonorge.no/register/versjone...</td>\n",
       "      <td></td>\n",
       "    </tr>\n",
       "    <tr>\n",
       "      <th>3</th>\n",
       "      <td>21273</td>\n",
       "      <td>Radnett - doseratemålestasjoner</td>\n",
       "      <td>[0.087247156, 0.4677642, 0.1239377, -0.3505301...</td>\n",
       "      <td>Datasettet inneholder strålevernets radnettsta...</td>\n",
       "      <td>Norge digitalt###Åpne data###modellbaserteVegp...</td>\n",
       "      <td>Bruksbegrensninger Ingen begrensninger på bruk...</td>\n",
       "      <td>Sikkerhetsnivå Ugradert: Available for general...</td>\n",
       "      <td>Tilgangsrestriksjoner Andre restriksjoner: Lim...</td>\n",
       "      <td>Statens strålevernnrpa@nrpa.no###Direktoratet ...</td>\n",
       "      <td>Produktspesifikasjon###Produktark###Produktsid...</td>\n",
       "      <td></td>\n",
       "    </tr>\n",
       "    <tr>\n",
       "      <th>4</th>\n",
       "      <td>37251</td>\n",
       "      <td>Predikert utbredelse og tetthetsfordeling av s...</td>\n",
       "      <td>[-0.14394166, 0.41232172, -0.1769793, -0.33108...</td>\n",
       "      <td>Basert på gamle og nye data for forekomst av s...</td>\n",
       "      <td>Species distribution###Norge digitalt###modell...</td>\n",
       "      <td>Bruksbegrensninger Ingen ###IngenNo conditions...</td>\n",
       "      <td>Sikkerhetsnivå Ugradert: Available for general...</td>\n",
       "      <td>Tilgangsrestriksjoner Andre restriksjoner: Lim...</td>\n",
       "      <td>Norsk institutt for naturforskningfrank.hansse...</td>\n",
       "      <td>Produktspesifikasjon###Produktark###Produktsid...</td>\n",
       "      <td></td>\n",
       "    </tr>\n",
       "    <tr>\n",
       "      <th>...</th>\n",
       "      <td>...</td>\n",
       "      <td>...</td>\n",
       "      <td>...</td>\n",
       "      <td>...</td>\n",
       "      <td>...</td>\n",
       "      <td>...</td>\n",
       "      <td>...</td>\n",
       "      <td>...</td>\n",
       "      <td>...</td>\n",
       "      <td>...</td>\n",
       "      <td>...</td>\n",
       "    </tr>\n",
       "    <tr>\n",
       "      <th>184</th>\n",
       "      <td>55086</td>\n",
       "      <td>Sentrumssoner 2016</td>\n",
       "      <td>[-0.5731087, 0.2514926, 0.21160778, -0.3906372...</td>\n",
       "      <td>Inneholder avgrensning av og statistikk knytte...</td>\n",
       "      <td>Land use###Norge digitalt###geodataloven###fel...</td>\n",
       "      <td>###</td>\n",
       "      <td>Sikkerhetsnivå Ugradert: Available for general...</td>\n",
       "      <td>Tilgangsrestriksjoner Andre restriksjoner: Lim...</td>\n",
       "      <td>Erik EngelienStatistisk sentralbyråerik.engeli...</td>\n",
       "      <td>http://www.ssb.no/natur-og-miljo/_attachment/1...</td>\n",
       "      <td>55b401f3-2ea1-4045-9f87-22ac9d6ecf66</td>\n",
       "    </tr>\n",
       "    <tr>\n",
       "      <th>185</th>\n",
       "      <td>152</td>\n",
       "      <td>Statistiske enheter grunnkretser - historiske ...</td>\n",
       "      <td>[-0.11083123, -0.0798243, 0.12608653, 0.422164...</td>\n",
       "      <td>Datasettet viser grunnkretsinndelingen i Norge...</td>\n",
       "      <td>Statistical units###geodataloven###Norge digit...</td>\n",
       "      <td>Bruksbegrensninger Ingen begrensninger på bruk...</td>\n",
       "      <td>Sikkerhetsnivå Ugradert: Available for general...</td>\n",
       "      <td>Tilgangsrestriksjoner Andre restriksjoner: Lim...</td>\n",
       "      <td>Carina Tolpinrud JøntvedtKartverket+47 08700po...</td>\n",
       "      <td>https://register.geonorge.no/register/versjone...</td>\n",
       "      <td>02b6c97b-63da-4d46-9a70-6e9ef3442d54</td>\n",
       "    </tr>\n",
       "    <tr>\n",
       "      <th>186</th>\n",
       "      <td>55061</td>\n",
       "      <td>Boligstatistikk på rutenett 250m 2019</td>\n",
       "      <td>[-0.5389366, 0.28145486, 0.6831738, -0.2194134...</td>\n",
       "      <td>Inneholder rutenettstatistikk over antall boli...</td>\n",
       "      <td>Buildings###Norge digitalt###geodataloven###fe...</td>\n",
       "      <td>Bruksbegrensninger Ingen begrensninger på bruk...</td>\n",
       "      <td>Sikkerhetsnivå Ugradert: Available for general...</td>\n",
       "      <td>Tilgangsrestriksjoner Andre restriksjoner: Lim...</td>\n",
       "      <td>Statistisk Sentralbyråper.morten.holt@ssb.no##...</td>\n",
       "      <td>Produktspesifikasjon###https://register.geonor...</td>\n",
       "      <td>f3cdcd1f-5ee7-40fe-ac19-33a9101e00a4</td>\n",
       "    </tr>\n",
       "    <tr>\n",
       "      <th>187</th>\n",
       "      <td>50171</td>\n",
       "      <td>Arealplanområder Svalbard</td>\n",
       "      <td>[-0.28596509, 0.1529622, 1.1230906, -0.3778528...</td>\n",
       "      <td>Arealplaner på Svalbard følger et forenklet sy...</td>\n",
       "      <td>Annet###fellesDatakatalog###Plan###Svalbard###...</td>\n",
       "      <td>Bruksbegrensninger Oppgje alltid Sysselmannen ...</td>\n",
       "      <td>Sikkerhetsnivå Ugradert: Available for general...</td>\n",
       "      <td>Tilgangsrestriksjoner Andre restriksjoner: Lim...</td>\n",
       "      <td>Sysselmannen på Svalbardsbr@sysselmannen.no###...</td>\n",
       "      <td>Produktspesifikasjon###Produktark###Produktsid...</td>\n",
       "      <td></td>\n",
       "    </tr>\n",
       "    <tr>\n",
       "      <th>188</th>\n",
       "      <td>21438</td>\n",
       "      <td>Norges maritime grenser tillegg</td>\n",
       "      <td>[-0.35562304, 0.41819122, 0.46922928, -0.12268...</td>\n",
       "      <td>Norges maritime grenser tillegg inneholder his...</td>\n",
       "      <td>Annet###Norge digitalt###Åpne data###fellesDat...</td>\n",
       "      <td>Bruksbegrensninger Ingen begrensninger på bruk...</td>\n",
       "      <td>Sikkerhetsnivå Ugradert: Available for general...</td>\n",
       "      <td>Tilgangsrestriksjoner Andre restriksjoner: Lim...</td>\n",
       "      <td>Carina Tolpinrud JøntvedtKartverket+47 08700po...</td>\n",
       "      <td>Produktspesifikasjon###Produktark###Produktsid...</td>\n",
       "      <td></td>\n",
       "    </tr>\n",
       "  </tbody>\n",
       "</table>\n",
       "<p>189 rows × 11 columns</p>\n",
       "</div>"
      ],
      "text/plain": [
       "        id                                              title  \\\n",
       "0    37228                                           Artsfunn   \n",
       "1    21400                      Hav og is - Iskart (shapefil)   \n",
       "2      240                                    Losbordingsfelt   \n",
       "3    21273                    Radnett - doseratemålestasjoner   \n",
       "4    37251  Predikert utbredelse og tetthetsfordeling av s...   \n",
       "..     ...                                                ...   \n",
       "184  55086                                 Sentrumssoner 2016   \n",
       "185    152  Statistiske enheter grunnkretser - historiske ...   \n",
       "186  55061              Boligstatistikk på rutenett 250m 2019   \n",
       "187  50171                          Arealplanområder Svalbard   \n",
       "188  21438                    Norges maritime grenser tillegg   \n",
       "\n",
       "                                          title_vector  \\\n",
       "0    [0.56139773, 0.34755126, 0.14640424, 0.1977914...   \n",
       "1    [0.03226918, 0.60322803, 0.5526991, -0.4393136...   \n",
       "2    [-0.5165257, 0.32858214, 0.57894915, -0.333858...   \n",
       "3    [0.087247156, 0.4677642, 0.1239377, -0.3505301...   \n",
       "4    [-0.14394166, 0.41232172, -0.1769793, -0.33108...   \n",
       "..                                                 ...   \n",
       "184  [-0.5731087, 0.2514926, 0.21160778, -0.3906372...   \n",
       "185  [-0.11083123, -0.0798243, 0.12608653, 0.422164...   \n",
       "186  [-0.5389366, 0.28145486, 0.6831738, -0.2194134...   \n",
       "187  [-0.28596509, 0.1529622, 1.1230906, -0.3778528...   \n",
       "188  [-0.35562304, 0.41819122, 0.46922928, -0.12268...   \n",
       "\n",
       "                                              abstract  \\\n",
       "0    Datasettet inneholder stedfestet informasjon a...   \n",
       "1    Istjenesten ved Meteorologisk institutt utarbe...   \n",
       "2    Bordingsfelt er angitt som et geografisk punkt...   \n",
       "3    Datasettet inneholder strålevernets radnettsta...   \n",
       "4    Basert på gamle og nye data for forekomst av s...   \n",
       "..                                                 ...   \n",
       "184  Inneholder avgrensning av og statistikk knytte...   \n",
       "185  Datasettet viser grunnkretsinndelingen i Norge...   \n",
       "186  Inneholder rutenettstatistikk over antall boli...   \n",
       "187  Arealplaner på Svalbard følger et forenklet sy...   \n",
       "188  Norges maritime grenser tillegg inneholder his...   \n",
       "\n",
       "                                               keyword  \\\n",
       "0    Natur###Norge###Svalbard###lav###karplanter###...   \n",
       "1    Oceanographic geographical features###Inspire#...   \n",
       "2    Åpne data###Norge digitalt###modellbaserteVegp...   \n",
       "3    Norge digitalt###Åpne data###modellbaserteVegp...   \n",
       "4    Species distribution###Norge digitalt###modell...   \n",
       "..                                                 ...   \n",
       "184  Land use###Norge digitalt###geodataloven###fel...   \n",
       "185  Statistical units###geodataloven###Norge digit...   \n",
       "186  Buildings###Norge digitalt###geodataloven###fe...   \n",
       "187  Annet###fellesDatakatalog###Plan###Svalbard###...   \n",
       "188  Annet###Norge digitalt###Åpne data###fellesDat...   \n",
       "\n",
       "                                           Constraints  \\\n",
       "0                                                  ###   \n",
       "1    Bruksbegrensninger Ingen begrensninger på bruk...   \n",
       "2                                                  ###   \n",
       "3    Bruksbegrensninger Ingen begrensninger på bruk...   \n",
       "4    Bruksbegrensninger Ingen ###IngenNo conditions...   \n",
       "..                                                 ...   \n",
       "184                                                ###   \n",
       "185  Bruksbegrensninger Ingen begrensninger på bruk...   \n",
       "186  Bruksbegrensninger Ingen begrensninger på bruk...   \n",
       "187  Bruksbegrensninger Oppgje alltid Sysselmannen ...   \n",
       "188  Bruksbegrensninger Ingen begrensninger på bruk...   \n",
       "\n",
       "                                   SecurityConstraints  \\\n",
       "0                                            #########   \n",
       "1    Sikkerhetsnivå Ugradert: Available for general...   \n",
       "2    Sikkerhetsnivå Ugradert: Available for general...   \n",
       "3    Sikkerhetsnivå Ugradert: Available for general...   \n",
       "4    Sikkerhetsnivå Ugradert: Available for general...   \n",
       "..                                                 ...   \n",
       "184  Sikkerhetsnivå Ugradert: Available for general...   \n",
       "185  Sikkerhetsnivå Ugradert: Available for general...   \n",
       "186  Sikkerhetsnivå Ugradert: Available for general...   \n",
       "187  Sikkerhetsnivå Ugradert: Available for general...   \n",
       "188  Sikkerhetsnivå Ugradert: Available for general...   \n",
       "\n",
       "                                      LegalConstraints  \\\n",
       "0    Tilgangsrestriksjoner Andre restriksjoner: Lim...   \n",
       "1    Tilgangsrestriksjoner Andre restriksjoner: Lim...   \n",
       "2    Tilgangsrestriksjoner Andre restriksjoner: Lim...   \n",
       "3    Tilgangsrestriksjoner Andre restriksjoner: Lim...   \n",
       "4    Tilgangsrestriksjoner Andre restriksjoner: Lim...   \n",
       "..                                                 ...   \n",
       "184  Tilgangsrestriksjoner Andre restriksjoner: Lim...   \n",
       "185  Tilgangsrestriksjoner Andre restriksjoner: Lim...   \n",
       "186  Tilgangsrestriksjoner Andre restriksjoner: Lim...   \n",
       "187  Tilgangsrestriksjoner Andre restriksjoner: Lim...   \n",
       "188  Tilgangsrestriksjoner Andre restriksjoner: Lim...   \n",
       "\n",
       "                                      responsibleParty  \\\n",
       "0    Frank HansenNorsk institutt for naturforskning...   \n",
       "1    Meteorologisk instituttistjenesten@met.no###Me...   \n",
       "2    Stian AamotKystverket37019700Kystveien 30Arend...   \n",
       "3    Statens strålevernnrpa@nrpa.no###Direktoratet ...   \n",
       "4    Norsk institutt for naturforskningfrank.hansse...   \n",
       "..                                                 ...   \n",
       "184  Erik EngelienStatistisk sentralbyråerik.engeli...   \n",
       "185  Carina Tolpinrud JøntvedtKartverket+47 08700po...   \n",
       "186  Statistisk Sentralbyråper.morten.holt@ssb.no##...   \n",
       "187  Sysselmannen på Svalbardsbr@sysselmannen.no###...   \n",
       "188  Carina Tolpinrud JøntvedtKartverket+47 08700po...   \n",
       "\n",
       "                                    productInformation  \\\n",
       "0    Produktspesifikasjon###Produktark###Produktsid...   \n",
       "1    Produktspesifikasjon###Produktark###Produktsid...   \n",
       "2    https://register.geonorge.no/register/versjone...   \n",
       "3    Produktspesifikasjon###Produktark###Produktsid...   \n",
       "4    Produktspesifikasjon###Produktark###Produktsid...   \n",
       "..                                                 ...   \n",
       "184  http://www.ssb.no/natur-og-miljo/_attachment/1...   \n",
       "185  https://register.geonorge.no/register/versjone...   \n",
       "186  Produktspesifikasjon###https://register.geonor...   \n",
       "187  Produktspesifikasjon###Produktark###Produktsid...   \n",
       "188  Produktspesifikasjon###Produktark###Produktsid...   \n",
       "\n",
       "                                 parentId  \n",
       "0                                          \n",
       "1                                          \n",
       "2                                          \n",
       "3                                          \n",
       "4                                          \n",
       "..                                    ...  \n",
       "184  55b401f3-2ea1-4045-9f87-22ac9d6ecf66  \n",
       "185  02b6c97b-63da-4d46-9a70-6e9ef3442d54  \n",
       "186  f3cdcd1f-5ee7-40fe-ac19-33a9101e00a4  \n",
       "187                                        \n",
       "188                                        \n",
       "\n",
       "[189 rows x 11 columns]"
      ]
     },
     "execution_count": 37,
     "metadata": {},
     "output_type": "execute_result"
    }
   ],
   "source": [
    "df_kartverket_slice = df_kartverket[['id', 'title', 'title_vector', 'abstract', 'keyword', 'Constraints', 'SecurityConstraints', 'LegalConstraints', 'responsibleParty', 'productInformation', 'parentId']]\n",
    "df_kartverket_slice"
   ]
  },
  {
   "cell_type": "markdown",
   "id": "b5736de0",
   "metadata": {},
   "source": [
    "## Insert the subset dataframe data into Milvus collection"
   ]
  },
  {
   "cell_type": "code",
   "execution_count": 38,
   "id": "2110dc19",
   "metadata": {},
   "outputs": [
    {
     "name": "stdout",
     "output_type": "stream",
     "text": [
      "CPU times: user 569 ms, sys: 72.6 ms, total: 642 ms\n",
      "Wall time: 6.42 s\n"
     ]
    },
    {
     "data": {
      "text/plain": [
       "189"
      ]
     },
     "execution_count": 38,
     "metadata": {},
     "output_type": "execute_result"
    }
   ],
   "source": [
    "from towhee import ops, pipe, DataCollection\n",
    "\n",
    "insert_pipe_kartverket = (pipe.input('df_kartverket_slice')\n",
    "                   .flat_map('df_kartverket_slice', 'data', lambda df: df.values.tolist())\n",
    "                   .map('data', 'res', ops.ann_insert.milvus_client(host=server_host, \n",
    "                                                                    port=server_port,\n",
    "                                                                    collection_name='kartverket_metadata'))\n",
    "                   .output('res')\n",
    ")\n",
    "\n",
    "%time _ = insert_pipe_kartverket(df_kartverket_slice)\n",
    "\n",
    "\n",
    "kartverket_collection.load()\n",
    "kartverket_collection.num_entities"
   ]
  },
  {
   "cell_type": "markdown",
   "id": "f778b4c6",
   "metadata": {},
   "source": [
    "## Query against metadata collection"
   ]
  },
  {
   "cell_type": "code",
   "execution_count": 45,
   "id": "604c3483",
   "metadata": {},
   "outputs": [
    {
     "name": "stdout",
     "output_type": "stream",
     "text": [
      "Index(['schema', 'uuid', 'id', 'hierarchyLevel', 'title',\n",
      "       'datasetcreationdate', 'abstract', 'keyword', 'geoBox', 'Constraints',\n",
      "       'SecurityConstraints', 'LegalConstraints', 'temporalExtent', 'image',\n",
      "       'responsibleParty', 'link', 'metadatacreationdate',\n",
      "       'productInformation', 'parentId', 'title_vector'],\n",
      "      dtype='object')\n",
      "\n",
      "\"Just do it\" search:\n"
     ]
    },
    {
     "data": {
      "text/html": [
       "<table style=\"border-collapse: collapse;\"><tr><th style=\"text-align: center; font-size: 130%; border: none;\">query</th> <th style=\"text-align: center; font-size: 130%; border: none;\">score</th> <th style=\"text-align: center; font-size: 130%; border: none;\">id</th> <th style=\"text-align: center; font-size: 130%; border: none;\">title</th> <th style=\"text-align: center; font-size: 130%; border: none;\">abstract</th> <th style=\"text-align: center; font-size: 130%; border: none;\">keyword</th> <th style=\"text-align: center; font-size: 130%; border: none;\">Constraints</th> <th style=\"text-align: center; font-size: 130%; border: none;\">SecurityConstraints</th> <th style=\"text-align: center; font-size: 130%; border: none;\">LegalConstraints</th> <th style=\"text-align: center; font-size: 130%; border: none;\">responsibleParty</th> <th style=\"text-align: center; font-size: 130%; border: none;\">productInformation</th> <th style=\"text-align: center; font-size: 130%; border: none;\">parentId</th></tr>\n",
       "<tr><td style=\"text-align: center; vertical-align: top; border-right: solid 1px #D3D3D3; border-left: solid 1px #D3D3D3; \">Just do it</td><td style=\"text-align: center; vertical-align: top; border-right: solid 1px #D3D3D3; border-left: solid 1px #D3D3D3; \">120.80125427246094</td><td style=\"text-align: center; vertical-align: top; border-right: solid 1px #D3D3D3; border-left: solid 1px #D3D3D3; \">22788</td><td style=\"text-align: center; vertical-align: top; border-right: solid 1px #D3D3D3; border-left: solid 1px #D3D3D3; \">22788</td><td style=\"text-align: center; vertical-align: top; border-right: solid 1px #D3D3D3; border-left: solid 1px #D3D3D3; \">Magasin</td><td style=\"text-align: center; vertical-align: top; border-right: solid 1px #D3D3D3; border-left: solid 1px #D3D3D3; \">Database over regulerte innsjøer. Egenskapsdata er vassdragsnr., magasinnr., navn, laveste og høyeste regulerte vannstand (m.o.h...</td><td style=\"text-align: center; vertical-align: top; border-right: solid 1px #D3D3D3; border-left: solid 1px #D3D3D3; \">Annet###Åpne data###Norge digitalt###modellbaserteVegprosjekter###fellesDatakatalog###Energi###Norge fastland###magasin###vannkr...</td><td style=\"text-align: center; vertical-align: top; border-right: solid 1px #D3D3D3; border-left: solid 1px #D3D3D3; \">Bruksbegrensninger Ingen ###Ingen</td><td style=\"text-align: center; vertical-align: top; border-right: solid 1px #D3D3D3; border-left: solid 1px #D3D3D3; \">Sikkerhetsnivå Ugradert: Available for general disclosure#########</td><td style=\"text-align: center; vertical-align: top; border-right: solid 1px #D3D3D3; border-left: solid 1px #D3D3D3; \">Tilgangsrestriksjoner Andre restriksjoner: Limitation not listed######Andre restriksjonerÅpne data###Åpne data###Brukerrestriksj...</td><td style=\"text-align: center; vertical-align: top; border-right: solid 1px #D3D3D3; border-left: solid 1px #D3D3D3; \">Seming Haakon SkauNorges vassdrags- og energidirektoratgisstotte@nve.no###NVE - Seksjon for geomatikk og dataanalyse/IGDNorges v...</td><td style=\"text-align: center; vertical-align: top; border-right: solid 1px #D3D3D3; border-left: solid 1px #D3D3D3; \">Produktspesifikasjon###Produktark###Produktside###Tegnforklaring###dekningsoversikt###hjelp###dekningsoversikt rutenett###deknin...</td></tr>\n",
       "<tr><td style=\"text-align: center; vertical-align: top; border-right: solid 1px #D3D3D3; border-left: solid 1px #D3D3D3; \">Just do it</td><td style=\"text-align: center; vertical-align: top; border-right: solid 1px #D3D3D3; border-left: solid 1px #D3D3D3; \">126.17570495605469</td><td style=\"text-align: center; vertical-align: top; border-right: solid 1px #D3D3D3; border-left: solid 1px #D3D3D3; \">21492</td><td style=\"text-align: center; vertical-align: top; border-right: solid 1px #D3D3D3; border-left: solid 1px #D3D3D3; \">21492</td><td style=\"text-align: center; vertical-align: top; border-right: solid 1px #D3D3D3; border-left: solid 1px #D3D3D3; \">Bunnsedimenter (kornstørrelse), detaljert</td><td style=\"text-align: center; vertical-align: top; border-right: solid 1px #D3D3D3; border-left: solid 1px #D3D3D3; \">Datasettet viser kornstørrelsessammensetning i sjøbunnssedimentenes øvre del (øverste 0-10 cm av sjøbunnen). I egenskapstabellen...</td><td style=\"text-align: center; vertical-align: top; border-right: solid 1px #D3D3D3; border-left: solid 1px #D3D3D3; \">Sea regions###Inspire###Norge digitalt###geodataloven###Mareano###ØkologiskGrunnkart###MarineGrunnkart###fellesDatakatalog###Geo...</td><td style=\"text-align: center; vertical-align: top; border-right: solid 1px #D3D3D3; border-left: solid 1px #D3D3D3; \">Bruksbegrensninger Detaljnivået på datasettet tilsier bruk innenfor  kartmålestokken: 1:20.000 - 1:150.000. ###Detaljnivået på d...</td><td style=\"text-align: center; vertical-align: top; border-right: solid 1px #D3D3D3; border-left: solid 1px #D3D3D3; \">Sikkerhetsnivå Ugradert: Available for general disclosure#########</td><td style=\"text-align: center; vertical-align: top; border-right: solid 1px #D3D3D3; border-left: solid 1px #D3D3D3; \">Tilgangsrestriksjoner Andre restriksjoner: Limitation not listed######Andre restriksjonerÅpne data###Åpne data###Brukerrestriksj...</td><td style=\"text-align: center; vertical-align: top; border-right: solid 1px #D3D3D3; border-left: solid 1px #D3D3D3; \">Aave LeplandNorges geologiske undersøkelseDataadministrator4773904000Leiv Eirikssons vei 39TrondheimAave.Lepland@ngu.nohttp://ww...</td><td style=\"text-align: center; vertical-align: top; border-right: solid 1px #D3D3D3; border-left: solid 1px #D3D3D3; \">https://register.geonorge.no/produktspesifikasjoner/bunnsedimenter-kornstørrelseProduktspesifikasjon###https://register.geonorge...</td></tr>\n",
       "<tr><td style=\"text-align: center; vertical-align: top; border-right: solid 1px #D3D3D3; border-left: solid 1px #D3D3D3; \">Just do it</td><td style=\"text-align: center; vertical-align: top; border-right: solid 1px #D3D3D3; border-left: solid 1px #D3D3D3; \">127.85933685302734</td><td style=\"text-align: center; vertical-align: top; border-right: solid 1px #D3D3D3; border-left: solid 1px #D3D3D3; \">68030</td><td style=\"text-align: center; vertical-align: top; border-right: solid 1px #D3D3D3; border-left: solid 1px #D3D3D3; \">68030</td><td style=\"text-align: center; vertical-align: top; border-right: solid 1px #D3D3D3; border-left: solid 1px #D3D3D3; \">Bunnsedimenter (kornstørrelse), oversikt</td><td style=\"text-align: center; vertical-align: top; border-right: solid 1px #D3D3D3; border-left: solid 1px #D3D3D3; \">Datasettet viser kornstørrelsessammensetning i sjøbunnssedimentenes øvre del. Kornstørrelsesdata er basert på analyser av sjøbun...</td><td style=\"text-align: center; vertical-align: top; border-right: solid 1px #D3D3D3; border-left: solid 1px #D3D3D3; \">Sea regions###Inspire###Norge digitalt###geodataloven###Mareano###fellesDatakatalog###Geologi###Norge###Nordsjøen###Norskehavet#...</td><td style=\"text-align: center; vertical-align: top; border-right: solid 1px #D3D3D3; border-left: solid 1px #D3D3D3; \">Bruksbegrensninger Detaljnivået på datasettet tilsier bruk innenfor  kartmålestokken: 1:2000.000 - 1:10.000.000 ###Detaljnivået ...</td><td style=\"text-align: center; vertical-align: top; border-right: solid 1px #D3D3D3; border-left: solid 1px #D3D3D3; \">Sikkerhetsnivå Ugradert: Available for general disclosure#########</td><td style=\"text-align: center; vertical-align: top; border-right: solid 1px #D3D3D3; border-left: solid 1px #D3D3D3; \">Tilgangsrestriksjoner Andre restriksjoner: Limitation not listed######Andre restriksjonerÅpne data###Åpne data###Brukerrestriksj...</td><td style=\"text-align: center; vertical-align: top; border-right: solid 1px #D3D3D3; border-left: solid 1px #D3D3D3; \">Aave LeplandNorges geologiske undersøkelseDataadministrator4773904000Leiv Eirikssons vei 39TrondheimAave.Lepland@ngu.nohttp://ww...</td><td style=\"text-align: center; vertical-align: top; border-right: solid 1px #D3D3D3; border-left: solid 1px #D3D3D3; \">https://register.geonorge.no/produktspesifikasjoner/bunnsedimenter-kornstørrelseProduktspesifikasjon###https://register.geonorge...</td></tr>\n",
       "<tr><td style=\"text-align: center; vertical-align: top; border-right: solid 1px #D3D3D3; border-left: solid 1px #D3D3D3; \">Just do it</td><td style=\"text-align: center; vertical-align: top; border-right: solid 1px #D3D3D3; border-left: solid 1px #D3D3D3; \">127.91626739501953</td><td style=\"text-align: center; vertical-align: top; border-right: solid 1px #D3D3D3; border-left: solid 1px #D3D3D3; \">69607</td><td style=\"text-align: center; vertical-align: top; border-right: solid 1px #D3D3D3; border-left: solid 1px #D3D3D3; \">69607</td><td style=\"text-align: center; vertical-align: top; border-right: solid 1px #D3D3D3; border-left: solid 1px #D3D3D3; \">Relativ bunnhardhet, åpne data</td><td style=\"text-align: center; vertical-align: top; border-right: solid 1px #D3D3D3; border-left: solid 1px #D3D3D3; \">Relativ bunnhardhet er rasterdata som viser reflektivitetstyrke fra sjøbunnen. Reflektivitetsstyrke sier noe om sjøbunnens akust...</td><td style=\"text-align: center; vertical-align: top; border-right: solid 1px #D3D3D3; border-left: solid 1px #D3D3D3; \">Geology###Åpne data###Norge digitalt###MarineGrunnkart###modellbaserteVegprosjekter###fellesDatakatalog###Geologi###Norge###Bare...</td><td style=\"text-align: center; vertical-align: top; border-right: solid 1px #D3D3D3; border-left: solid 1px #D3D3D3; \">Bruksbegrensninger Ingen begrensninger på bruk er oppgitt. ###Ingen begrensninger på bruk er oppgitt.No conditions apply</td><td style=\"text-align: center; vertical-align: top; border-right: solid 1px #D3D3D3; border-left: solid 1px #D3D3D3; \">Sikkerhetsnivå Ugradert: Available for general disclosure#########</td><td style=\"text-align: center; vertical-align: top; border-right: solid 1px #D3D3D3; border-left: solid 1px #D3D3D3; \">Tilgangsrestriksjoner Andre restriksjoner: Limitation not listed######Andre restriksjonerÅpne data###Åpne data###Brukerrestriksj...</td><td style=\"text-align: center; vertical-align: top; border-right: solid 1px #D3D3D3; border-left: solid 1px #D3D3D3; \">Aave LeplandNorges geologiske undersøkelseDataadministrator, Maringeologi, NGU4773904000Leiv Eirikssons vei 39TrondheimAave.Lepl...</td><td style=\"text-align: center; vertical-align: top; border-right: solid 1px #D3D3D3; border-left: solid 1px #D3D3D3; \">Produktspesifikasjon###https://register.geonorge.no/register/versjoner/produktark/norges-geologiske-undersokelse/relativ-bunnhar...</td></tr>\n",
       "<tr><td style=\"text-align: center; vertical-align: top; border-right: solid 1px #D3D3D3; border-left: solid 1px #D3D3D3; \">Just do it</td><td style=\"text-align: center; vertical-align: top; border-right: solid 1px #D3D3D3; border-left: solid 1px #D3D3D3; \">128.5309600830078</td><td style=\"text-align: center; vertical-align: top; border-right: solid 1px #D3D3D3; border-left: solid 1px #D3D3D3; \">37228</td><td style=\"text-align: center; vertical-align: top; border-right: solid 1px #D3D3D3; border-left: solid 1px #D3D3D3; \">37228</td><td style=\"text-align: center; vertical-align: top; border-right: solid 1px #D3D3D3; border-left: solid 1px #D3D3D3; \">Artsfunn</td><td style=\"text-align: center; vertical-align: top; border-right: solid 1px #D3D3D3; border-left: solid 1px #D3D3D3; \">Datasettet inneholder stedfestet informasjon av arter samlet inn av NINA. Funndataene følger datastandarden Darwin Core Archive ...</td><td style=\"text-align: center; vertical-align: top; border-right: solid 1px #D3D3D3; border-left: solid 1px #D3D3D3; \">Natur###Norge###Svalbard###lav###karplanter###botanikkdata###innsekter###vannlevende innsekter###fisk###vannlevende planter###bi...</td><td style=\"text-align: center; vertical-align: top; border-right: solid 1px #D3D3D3; border-left: solid 1px #D3D3D3; \">###</td><td style=\"text-align: center; vertical-align: top; border-right: solid 1px #D3D3D3; border-left: solid 1px #D3D3D3; \">#########</td><td style=\"text-align: center; vertical-align: top; border-right: solid 1px #D3D3D3; border-left: solid 1px #D3D3D3; \">Tilgangsrestriksjoner Andre restriksjoner: Limitation not listed######Andre restriksjonerÅpne data###Åpne data###Brukerrestriksj...</td><td style=\"text-align: center; vertical-align: top; border-right: solid 1px #D3D3D3; border-left: solid 1px #D3D3D3; \">Frank HansenNorsk institutt for naturforskningfrank.hanssen@nina.no###Frank HansenNorsk institutt for naturforskningfrank.hansse...</td><td style=\"text-align: center; vertical-align: top; border-right: solid 1px #D3D3D3; border-left: solid 1px #D3D3D3; \">Produktspesifikasjon###Produktark###Produktside###Tegnforklaring###dekningsoversikt###hjelp</td></tr></table>"
      ],
      "text/plain": [
       "<IPython.core.display.HTML object>"
      ]
     },
     "metadata": {},
     "output_type": "display_data"
    }
   ],
   "source": [
    "import numpy as np\n",
    "# Variables specifying what column and collection to perform ANN comparrison against\n",
    "vector_columns = ['title_vector']\n",
    "collection_name = 'kartverket_metadata'\n",
    "\n",
    "print(df_kartverket.columns)\n",
    "# What columns to return for view\n",
    "response_output = [\n",
    "       'id', 'title',\n",
    "       'abstract', 'keyword', 'Constraints',\n",
    "       'SecurityConstraints', 'LegalConstraints',\n",
    "       'responsibleParty', 'productInformation', 'parentId'\n",
    "]\n",
    "\n",
    "\n",
    "demo_pipe = (pipe.input('query')\n",
    "                    .map('query', 'vec', ops.text_embedding.dpr(model_name=\"facebook/dpr-ctx_encoder-single-nq-base\"))\n",
    "                    .map('vec', 'vec', lambda x: x / np.linalg.norm(x, axis=0))\n",
    "                    .flat_map('vec', ('id', 'score', 'title',\n",
    "       'abstract', 'keyword', 'Constraints',\n",
    "       'SecurityConstraints', 'LegalConstraints',\n",
    "       'responsibleParty', 'productInformation', 'parentId'), \n",
    "                                       ops.ann_search.milvus_client(host=server_host, \n",
    "                                                                    port=server_port,\n",
    "                                                                    collection_name=collection_name,\n",
    "                                                                    vector_field=vector_columns,\n",
    "                                                                    output_fields=response_output, \n",
    "                                                                    limit=5))  \n",
    "                    .output(*['query', 'score'], *response_output)\n",
    "               )\n",
    "\n",
    "kartverket_question1 = 'Just do it'\n",
    "print(f'\\n\"{kartverket_question1}\" search:')\n",
    "res_kartverket1 = demo_pipe(kartverket_question1)\n",
    "DataCollection(res_kartverket1).show()"
   ]
  },
  {
   "cell_type": "markdown",
   "id": "42dd3daa",
   "metadata": {},
   "source": [
    "# Searh article in Medium"
   ]
  },
  {
   "cell_type": "markdown",
   "id": "f581e647",
   "metadata": {},
   "source": [
    "## 0. Overview\n",
    "\n",
    "We'll search for text in the Medium dataset, and it will find the most similar results to the search text across all titles. Searching for articles is different from traditional keyword searches, which search for semantically relevant content. If you search for \"**funny python demo**\" it will return \"**Python Coding for Kids - Setting Up For the Adventure**\", not \"**No key words about funny python demo**\".\n",
    "\n",
    "We will use Milvus and Towhee to help searches. Towhee is used to extract the semantics of the text and return the text embedding. The Milvus vector database can store and search vectors, and return related articles. So we first need to install [Milvus](https://github.com/milvus-io/milvus) and [Towhee](https://github.com/towhee-io/towhee).\n",
    "\n",
    "Before getting started, please make sure that you have started a [Milvus service](https://milvus.io/docs/install_standalone-docker.md). This notebook uses [milvus 2.2.10](https://milvus.io/docs/v2.2.x/install_standalone-docker.md) and [pymilvus 2.2.11](https://milvus.io/docs/release_notes.md#2210)."
   ]
  },
  {
   "cell_type": "code",
   "execution_count": null,
   "id": "2bd154c0",
   "metadata": {},
   "outputs": [],
   "source": [
    "#! pip install --upgrade pip\n",
    "#! pip3 install -q towhee pymilvus==2.2.11\n",
    "#! pip3 uninstall pymilvus -y\n",
    "\n",
    "! pip3 install -q towhee pymilvus==2.1.1\n",
    "! pip3 show pymilvus | grep -Ei 'Name:|Version:'\n",
    "! pip3 show towhee | grep -Ei 'Name:|Version:'"
   ]
  },
  {
   "cell_type": "markdown",
   "id": "b39019f8",
   "metadata": {},
   "source": [
    "## 1. Data preprocessing\n",
    "\n",
    "The data is from the [Cleaned Medium Articles Dataset](https://www.kaggle.com/datasets/shiyu22chen/cleaned-medium-articles-dataset)(you can download it from Kaggle), which cleared the empty article titles in the data and conver the string title to the embeeding with Towhee [text_embedding.dpr operator](https://towhee.io/text-embedding/dpr), as you can see the `title_vector` is the embedding vectors of the title."
   ]
  },
  {
   "cell_type": "code",
   "execution_count": null,
   "id": "93a2c191",
   "metadata": {},
   "outputs": [],
   "source": [
    "# Download data\n",
    "! wget -q https://github.com/towhee-io/examples/releases/download/data/New_Medium_Data.csv"
   ]
  },
  {
   "cell_type": "code",
   "execution_count": 1,
   "id": "3285cd05",
   "metadata": {},
   "outputs": [
    {
     "data": {
      "text/html": [
       "<div>\n",
       "<style scoped>\n",
       "    .dataframe tbody tr th:only-of-type {\n",
       "        vertical-align: middle;\n",
       "    }\n",
       "\n",
       "    .dataframe tbody tr th {\n",
       "        vertical-align: top;\n",
       "    }\n",
       "\n",
       "    .dataframe thead th {\n",
       "        text-align: right;\n",
       "    }\n",
       "</style>\n",
       "<table border=\"1\" class=\"dataframe\">\n",
       "  <thead>\n",
       "    <tr style=\"text-align: right;\">\n",
       "      <th></th>\n",
       "      <th>id</th>\n",
       "      <th>title</th>\n",
       "      <th>title_vector</th>\n",
       "      <th>link</th>\n",
       "      <th>reading_time</th>\n",
       "      <th>publication</th>\n",
       "      <th>claps</th>\n",
       "      <th>responses</th>\n",
       "    </tr>\n",
       "  </thead>\n",
       "  <tbody>\n",
       "    <tr>\n",
       "      <th>0</th>\n",
       "      <td>0</td>\n",
       "      <td>The Reported Mortality Rate of Coronavirus Is ...</td>\n",
       "      <td>[0.041732933, 0.013779674, -0.027564144, -0.01...</td>\n",
       "      <td>https://medium.com/swlh/the-reported-mortality...</td>\n",
       "      <td>13</td>\n",
       "      <td>The Startup</td>\n",
       "      <td>1100</td>\n",
       "      <td>18</td>\n",
       "    </tr>\n",
       "    <tr>\n",
       "      <th>1</th>\n",
       "      <td>1</td>\n",
       "      <td>Dashboards in Python: 3 Advanced Examples for ...</td>\n",
       "      <td>[0.0039737443, 0.003020432, -0.0006188639, 0.0...</td>\n",
       "      <td>https://medium.com/swlh/dashboards-in-python-3...</td>\n",
       "      <td>14</td>\n",
       "      <td>The Startup</td>\n",
       "      <td>726</td>\n",
       "      <td>3</td>\n",
       "    </tr>\n",
       "    <tr>\n",
       "      <th>2</th>\n",
       "      <td>2</td>\n",
       "      <td>How Can We Best Switch in Python?</td>\n",
       "      <td>[0.031961977, 0.00047043373, -0.018263113, 0.0...</td>\n",
       "      <td>https://medium.com/swlh/how-can-we-best-switch...</td>\n",
       "      <td>6</td>\n",
       "      <td>The Startup</td>\n",
       "      <td>500</td>\n",
       "      <td>7</td>\n",
       "    </tr>\n",
       "    <tr>\n",
       "      <th>3</th>\n",
       "      <td>3</td>\n",
       "      <td>Maternity leave shouldn’t set women back</td>\n",
       "      <td>[0.032572296, -0.011148319, -0.01688577, -0.00...</td>\n",
       "      <td>https://medium.com/swlh/maternity-leave-should...</td>\n",
       "      <td>9</td>\n",
       "      <td>The Startup</td>\n",
       "      <td>460</td>\n",
       "      <td>1</td>\n",
       "    </tr>\n",
       "    <tr>\n",
       "      <th>4</th>\n",
       "      <td>4</td>\n",
       "      <td>Python NLP Tutorial: Information Extraction an...</td>\n",
       "      <td>[-0.011735886, -0.016938083, -0.027233299, 0.0...</td>\n",
       "      <td>https://medium.com/swlh/python-nlp-tutorial-in...</td>\n",
       "      <td>7</td>\n",
       "      <td>The Startup</td>\n",
       "      <td>163</td>\n",
       "      <td>0</td>\n",
       "    </tr>\n",
       "  </tbody>\n",
       "</table>\n",
       "</div>"
      ],
      "text/plain": [
       "   id                                              title  \\\n",
       "0   0  The Reported Mortality Rate of Coronavirus Is ...   \n",
       "1   1  Dashboards in Python: 3 Advanced Examples for ...   \n",
       "2   2                  How Can We Best Switch in Python?   \n",
       "3   3           Maternity leave shouldn’t set women back   \n",
       "4   4  Python NLP Tutorial: Information Extraction an...   \n",
       "\n",
       "                                        title_vector  \\\n",
       "0  [0.041732933, 0.013779674, -0.027564144, -0.01...   \n",
       "1  [0.0039737443, 0.003020432, -0.0006188639, 0.0...   \n",
       "2  [0.031961977, 0.00047043373, -0.018263113, 0.0...   \n",
       "3  [0.032572296, -0.011148319, -0.01688577, -0.00...   \n",
       "4  [-0.011735886, -0.016938083, -0.027233299, 0.0...   \n",
       "\n",
       "                                                link  reading_time  \\\n",
       "0  https://medium.com/swlh/the-reported-mortality...            13   \n",
       "1  https://medium.com/swlh/dashboards-in-python-3...            14   \n",
       "2  https://medium.com/swlh/how-can-we-best-switch...             6   \n",
       "3  https://medium.com/swlh/maternity-leave-should...             9   \n",
       "4  https://medium.com/swlh/python-nlp-tutorial-in...             7   \n",
       "\n",
       "   publication  claps  responses  \n",
       "0  The Startup   1100         18  \n",
       "1  The Startup    726          3  \n",
       "2  The Startup    500          7  \n",
       "3  The Startup    460          1  \n",
       "4  The Startup    163          0  "
      ]
     },
     "execution_count": 1,
     "metadata": {},
     "output_type": "execute_result"
    }
   ],
   "source": [
    "import pandas as pd\n",
    "\n",
    "df = pd.read_csv('New_Medium_Data.csv', converters={'title_vector': lambda x: eval(x)})\n",
    "df.head()"
   ]
  },
  {
   "cell_type": "markdown",
   "id": "3c89e09d",
   "metadata": {},
   "source": [
    "## 2. Load Data\n",
    "\n",
    "The next step is to get the text embedding, and then insert all the extracted embedding vectors into Milvus."
   ]
  },
  {
   "cell_type": "markdown",
   "id": "3107e24c",
   "metadata": {},
   "source": [
    "### Create Milvus Collection\n",
    "\n",
    "We need to create a collection in Milvus first, which contains multiple fields of `id`, `title`, `title_vector`, `link`, `reading_time`, `publication`, `claps` and `responses`."
   ]
  },
  {
   "cell_type": "code",
   "execution_count": 2,
   "id": "17a85c11",
   "metadata": {},
   "outputs": [],
   "source": [
    "from pymilvus import connections, FieldSchema, CollectionSchema, DataType, Collection, utility\n",
    "\n",
    "server_host = 'ebjerk.no'\n",
    "server_port = '19530'\n",
    "\n",
    "connections.connect(host=server_host, port=server_port)\n",
    "\n",
    "def create_milvus_collection(collection_name, dim):\n",
    "    if utility.has_collection(collection_name):\n",
    "        utility.drop_collection(collection_name)\n",
    "    \n",
    "    fields = [\n",
    "            FieldSchema(name=\"id\", dtype=DataType.INT64, is_primary=True, auto_id=False),\n",
    "            FieldSchema(name=\"title\", dtype=DataType.VARCHAR, max_length=500),   \n",
    "            FieldSchema(name=\"title_vector\", dtype=DataType.FLOAT_VECTOR, dim=dim),\n",
    "            FieldSchema(name=\"link\", dtype=DataType.VARCHAR, max_length=500),\n",
    "            FieldSchema(name=\"reading_time\", dtype=DataType.INT64),\n",
    "            FieldSchema(name=\"publication\", dtype=DataType.VARCHAR, max_length=500),\n",
    "            FieldSchema(name=\"claps\", dtype=DataType.INT64),\n",
    "            FieldSchema(name=\"responses\", dtype=DataType.INT64)\n",
    "    ]\n",
    "    schema = CollectionSchema(fields=fields, description='search text')\n",
    "    collection = Collection(name=collection_name, schema=schema)\n",
    "    \n",
    "    index_params = {\n",
    "        'metric_type': \"L2\",\n",
    "        'index_type': \"IVF_FLAT\",\n",
    "        'params': {\"nlist\": 2048}\n",
    "    }\n",
    "    collection.create_index(field_name='title_vector', index_params=index_params)\n",
    "    return collection\n",
    "\n",
    "collection = create_milvus_collection('search_article_in_medium', 768)"
   ]
  },
  {
   "cell_type": "markdown",
   "id": "5de5f0d2",
   "metadata": {},
   "source": [
    "### Data to Milvus\n",
    "\n",
    "\n",
    "Towhee supports reading df data through the `from_df` interface, and then we need to convert the `title_vector` column in the data to a two-dimensional list in float format, and then insert all the fields into Milvus, each field inserted into Milvus corresponds to one Collection fields created earlier."
   ]
  },
  {
   "cell_type": "code",
   "execution_count": 3,
   "id": "08d52c41",
   "metadata": {},
   "outputs": [
    {
     "name": "stderr",
     "output_type": "stream",
     "text": [
      "/Library/Frameworks/Python.framework/Versions/3.10/lib/python3.10/site-packages/pydantic/_internal/_fields.py:151: UserWarning: Field \"model_name\" has conflict with protected namespace \"model_\".\n",
      "\n",
      "You may be able to resolve this warning by setting `model_config['protected_namespaces'] = ()`.\n",
      "  warnings.warn(\n"
     ]
    }
   ],
   "source": [
    "from towhee import ops, pipe, DataCollection\n",
    "\n",
    "insert_pipe = (pipe.input('df')\n",
    "                   .flat_map('df', 'data', lambda df: df.values.tolist())\n",
    "                   .map('data', 'res', ops.ann_insert.milvus_client(host=server_host, \n",
    "                                                                    port=server_port,\n",
    "                                                                    collection_name='search_article_in_medium'))\n",
    "                   .output('res')\n",
    ")"
   ]
  },
  {
   "cell_type": "code",
   "execution_count": 4,
   "id": "c24e29c6",
   "metadata": {},
   "outputs": [
    {
     "name": "stdout",
     "output_type": "stream",
     "text": [
      "CPU times: user 18.6 s, sys: 2.65 s, total: 21.3 s\n",
      "Wall time: 3min 6s\n"
     ]
    }
   ],
   "source": [
    "%time _ = insert_pipe(df)"
   ]
  },
  {
   "cell_type": "markdown",
   "id": "df2c149d",
   "metadata": {},
   "source": [
    "We need to call `collection.load()` to load the data after inserting the data, then run `collection.num_entities` to get the number of vectors in the collection. We will see the number of vectors is 5979, and we have successfully load the data to Milvus."
   ]
  },
  {
   "cell_type": "code",
   "execution_count": 5,
   "id": "902e5924",
   "metadata": {},
   "outputs": [
    {
     "data": {
      "text/plain": [
       "5979"
      ]
     },
     "execution_count": 5,
     "metadata": {},
     "output_type": "execute_result"
    }
   ],
   "source": [
    "collection.load()\n",
    "collection.num_entities"
   ]
  },
  {
   "cell_type": "markdown",
   "id": "ea34c1f4",
   "metadata": {},
   "source": [
    "## 3. Search embedding title"
   ]
  },
  {
   "cell_type": "markdown",
   "id": "9fa8662a",
   "metadata": {},
   "source": [
    "### Search one text in Milvus\n",
    "\n",
    "\n",
    "The retrieval process also to generate the text embedding of the query text, then search for similar vectors in Milvus, and finally return the result, which contains `id`(primary_key) and `score`. For example, we can search for \"funny python demo\":"
   ]
  },
  {
   "cell_type": "code",
   "execution_count": 6,
   "id": "1215dc8b",
   "metadata": {},
   "outputs": [
    {
     "data": {
      "text/html": [
       "<table style=\"border-collapse: collapse;\"><tr><th style=\"text-align: center; font-size: 130%; border: none;\">query</th> <th style=\"text-align: center; font-size: 130%; border: none;\">id</th> <th style=\"text-align: center; font-size: 130%; border: none;\">score</th></tr>\n",
       "<tr><td style=\"text-align: center; vertical-align: top; border-right: solid 1px #D3D3D3; border-left: solid 1px #D3D3D3; \">funny python demo</td><td style=\"text-align: center; vertical-align: top; border-right: solid 1px #D3D3D3; border-left: solid 1px #D3D3D3; \">3897</td><td style=\"text-align: center; vertical-align: top; border-right: solid 1px #D3D3D3; border-left: solid 1px #D3D3D3; \">0.3737611174583435</td></tr>\n",
       "<tr><td style=\"text-align: center; vertical-align: top; border-right: solid 1px #D3D3D3; border-left: solid 1px #D3D3D3; \">funny python demo</td><td style=\"text-align: center; vertical-align: top; border-right: solid 1px #D3D3D3; border-left: solid 1px #D3D3D3; \">1342</td><td style=\"text-align: center; vertical-align: top; border-right: solid 1px #D3D3D3; border-left: solid 1px #D3D3D3; \">0.43680649995803833</td></tr>\n",
       "<tr><td style=\"text-align: center; vertical-align: top; border-right: solid 1px #D3D3D3; border-left: solid 1px #D3D3D3; \">funny python demo</td><td style=\"text-align: center; vertical-align: top; border-right: solid 1px #D3D3D3; border-left: solid 1px #D3D3D3; \">1832</td><td style=\"text-align: center; vertical-align: top; border-right: solid 1px #D3D3D3; border-left: solid 1px #D3D3D3; \">0.45723840594291687</td></tr>\n",
       "<tr><td style=\"text-align: center; vertical-align: top; border-right: solid 1px #D3D3D3; border-left: solid 1px #D3D3D3; \">funny python demo</td><td style=\"text-align: center; vertical-align: top; border-right: solid 1px #D3D3D3; border-left: solid 1px #D3D3D3; \">5671</td><td style=\"text-align: center; vertical-align: top; border-right: solid 1px #D3D3D3; border-left: solid 1px #D3D3D3; \">0.4593276083469391</td></tr>\n",
       "<tr><td style=\"text-align: center; vertical-align: top; border-right: solid 1px #D3D3D3; border-left: solid 1px #D3D3D3; \">funny python demo</td><td style=\"text-align: center; vertical-align: top; border-right: solid 1px #D3D3D3; border-left: solid 1px #D3D3D3; \">1752</td><td style=\"text-align: center; vertical-align: top; border-right: solid 1px #D3D3D3; border-left: solid 1px #D3D3D3; \">0.4645397365093231</td></tr></table>"
      ],
      "text/plain": [
       "<IPython.core.display.HTML object>"
      ]
     },
     "metadata": {},
     "output_type": "display_data"
    }
   ],
   "source": [
    "import numpy as np\n",
    "\n",
    "search_pipe = (pipe.input('query')\n",
    "                    .map('query', 'vec', ops.text_embedding.dpr(model_name=\"facebook/dpr-ctx_encoder-single-nq-base\"))\n",
    "                    .map('vec', 'vec', lambda x: x / np.linalg.norm(x, axis=0))\n",
    "                    .flat_map('vec', ('id', 'score'), ops.ann_search.milvus_client(host=server_host, \n",
    "                                                                                   port=server_port,\n",
    "                                                                                   collection_name='search_article_in_medium'))  \n",
    "                    .output('query', 'id', 'score')\n",
    "               )\n",
    "\n",
    "res = search_pipe('funny python demo')\n",
    "DataCollection(res).show()"
   ]
  },
  {
   "cell_type": "markdown",
   "id": "07a5dc7f",
   "metadata": {},
   "source": [
    "### Search multi text in Milvus\n",
    "\n",
    "We can also retrieve multiple pieces of data, for example we can specify the array(['funny python demo', 'AI in data analysis']) to search in batch, which will be retrieved in Milvus:"
   ]
  },
  {
   "cell_type": "code",
   "execution_count": 7,
   "id": "e5a97384",
   "metadata": {},
   "outputs": [
    {
     "data": {
      "text/html": [
       "<table style=\"border-collapse: collapse;\"><tr><th style=\"text-align: center; font-size: 130%; border: none;\">query</th> <th style=\"text-align: center; font-size: 130%; border: none;\">id</th> <th style=\"text-align: center; font-size: 130%; border: none;\">score</th></tr>\n",
       "<tr><td style=\"text-align: center; vertical-align: top; border-right: solid 1px #D3D3D3; border-left: solid 1px #D3D3D3; \">funny python demo</td><td style=\"text-align: center; vertical-align: top; border-right: solid 1px #D3D3D3; border-left: solid 1px #D3D3D3; \">3897</td><td style=\"text-align: center; vertical-align: top; border-right: solid 1px #D3D3D3; border-left: solid 1px #D3D3D3; \">0.3737611174583435</td></tr>\n",
       "<tr><td style=\"text-align: center; vertical-align: top; border-right: solid 1px #D3D3D3; border-left: solid 1px #D3D3D3; \">funny python demo</td><td style=\"text-align: center; vertical-align: top; border-right: solid 1px #D3D3D3; border-left: solid 1px #D3D3D3; \">1342</td><td style=\"text-align: center; vertical-align: top; border-right: solid 1px #D3D3D3; border-left: solid 1px #D3D3D3; \">0.43680649995803833</td></tr>\n",
       "<tr><td style=\"text-align: center; vertical-align: top; border-right: solid 1px #D3D3D3; border-left: solid 1px #D3D3D3; \">funny python demo</td><td style=\"text-align: center; vertical-align: top; border-right: solid 1px #D3D3D3; border-left: solid 1px #D3D3D3; \">1832</td><td style=\"text-align: center; vertical-align: top; border-right: solid 1px #D3D3D3; border-left: solid 1px #D3D3D3; \">0.45723840594291687</td></tr>\n",
       "<tr><td style=\"text-align: center; vertical-align: top; border-right: solid 1px #D3D3D3; border-left: solid 1px #D3D3D3; \">funny python demo</td><td style=\"text-align: center; vertical-align: top; border-right: solid 1px #D3D3D3; border-left: solid 1px #D3D3D3; \">5671</td><td style=\"text-align: center; vertical-align: top; border-right: solid 1px #D3D3D3; border-left: solid 1px #D3D3D3; \">0.4593276083469391</td></tr>\n",
       "<tr><td style=\"text-align: center; vertical-align: top; border-right: solid 1px #D3D3D3; border-left: solid 1px #D3D3D3; \">funny python demo</td><td style=\"text-align: center; vertical-align: top; border-right: solid 1px #D3D3D3; border-left: solid 1px #D3D3D3; \">1752</td><td style=\"text-align: center; vertical-align: top; border-right: solid 1px #D3D3D3; border-left: solid 1px #D3D3D3; \">0.4645397365093231</td></tr></table>"
      ],
      "text/plain": [
       "<IPython.core.display.HTML object>"
      ]
     },
     "metadata": {},
     "output_type": "display_data"
    },
    {
     "data": {
      "text/html": [
       "<table style=\"border-collapse: collapse;\"><tr><th style=\"text-align: center; font-size: 130%; border: none;\">query</th> <th style=\"text-align: center; font-size: 130%; border: none;\">id</th> <th style=\"text-align: center; font-size: 130%; border: none;\">score</th></tr>\n",
       "<tr><td style=\"text-align: center; vertical-align: top; border-right: solid 1px #D3D3D3; border-left: solid 1px #D3D3D3; \">AI in data analysis</td><td style=\"text-align: center; vertical-align: top; border-right: solid 1px #D3D3D3; border-left: solid 1px #D3D3D3; \">3493</td><td style=\"text-align: center; vertical-align: top; border-right: solid 1px #D3D3D3; border-left: solid 1px #D3D3D3; \">0.24436689913272858</td></tr>\n",
       "<tr><td style=\"text-align: center; vertical-align: top; border-right: solid 1px #D3D3D3; border-left: solid 1px #D3D3D3; \">AI in data analysis</td><td style=\"text-align: center; vertical-align: top; border-right: solid 1px #D3D3D3; border-left: solid 1px #D3D3D3; \">4542</td><td style=\"text-align: center; vertical-align: top; border-right: solid 1px #D3D3D3; border-left: solid 1px #D3D3D3; \">0.2485119104385376</td></tr>\n",
       "<tr><td style=\"text-align: center; vertical-align: top; border-right: solid 1px #D3D3D3; border-left: solid 1px #D3D3D3; \">AI in data analysis</td><td style=\"text-align: center; vertical-align: top; border-right: solid 1px #D3D3D3; border-left: solid 1px #D3D3D3; \">2649</td><td style=\"text-align: center; vertical-align: top; border-right: solid 1px #D3D3D3; border-left: solid 1px #D3D3D3; \">0.28404247760772705</td></tr>\n",
       "<tr><td style=\"text-align: center; vertical-align: top; border-right: solid 1px #D3D3D3; border-left: solid 1px #D3D3D3; \">AI in data analysis</td><td style=\"text-align: center; vertical-align: top; border-right: solid 1px #D3D3D3; border-left: solid 1px #D3D3D3; \">4539</td><td style=\"text-align: center; vertical-align: top; border-right: solid 1px #D3D3D3; border-left: solid 1px #D3D3D3; \">0.3186832070350647</td></tr>\n",
       "<tr><td style=\"text-align: center; vertical-align: top; border-right: solid 1px #D3D3D3; border-left: solid 1px #D3D3D3; \">AI in data analysis</td><td style=\"text-align: center; vertical-align: top; border-right: solid 1px #D3D3D3; border-left: solid 1px #D3D3D3; \">3812</td><td style=\"text-align: center; vertical-align: top; border-right: solid 1px #D3D3D3; border-left: solid 1px #D3D3D3; \">0.3224286139011383</td></tr></table>"
      ],
      "text/plain": [
       "<IPython.core.display.HTML object>"
      ]
     },
     "metadata": {},
     "output_type": "display_data"
    }
   ],
   "source": [
    "res = search_pipe.batch(['funny python demo', 'AI in data analysis'])\n",
    "for re in res:\n",
    "    DataCollection(re).show()"
   ]
  },
  {
   "cell_type": "markdown",
   "id": "c835da6f",
   "metadata": {},
   "source": [
    "### Search text and return multi fields\n",
    "\n",
    "If we want to return more information when retrieving, we can set the `output_fields` parameter in [ann_search.milvus operator](https://towhee.io/ann-search/milvus). For example, in addition to `id` and `score`, we can also return `title`, `link`, `claps`, `reading_time`, `and response`:"
   ]
  },
  {
   "cell_type": "code",
   "execution_count": 8,
   "id": "0c736c2a",
   "metadata": {},
   "outputs": [
    {
     "data": {
      "text/html": [
       "<table style=\"border-collapse: collapse;\"><tr><th style=\"text-align: center; font-size: 130%; border: none;\">query</th> <th style=\"text-align: center; font-size: 130%; border: none;\">id</th> <th style=\"text-align: center; font-size: 130%; border: none;\">score</th> <th style=\"text-align: center; font-size: 130%; border: none;\">title</th></tr>\n",
       "<tr><td style=\"text-align: center; vertical-align: top; border-right: solid 1px #D3D3D3; border-left: solid 1px #D3D3D3; \">funny python demo</td><td style=\"text-align: center; vertical-align: top; border-right: solid 1px #D3D3D3; border-left: solid 1px #D3D3D3; \">3897</td><td style=\"text-align: center; vertical-align: top; border-right: solid 1px #D3D3D3; border-left: solid 1px #D3D3D3; \">0.3737611174583435</td><td style=\"text-align: center; vertical-align: top; border-right: solid 1px #D3D3D3; border-left: solid 1px #D3D3D3; \">Python Coding for Kids — Setting Up For the Adventure</td></tr>\n",
       "<tr><td style=\"text-align: center; vertical-align: top; border-right: solid 1px #D3D3D3; border-left: solid 1px #D3D3D3; \">funny python demo</td><td style=\"text-align: center; vertical-align: top; border-right: solid 1px #D3D3D3; border-left: solid 1px #D3D3D3; \">1342</td><td style=\"text-align: center; vertical-align: top; border-right: solid 1px #D3D3D3; border-left: solid 1px #D3D3D3; \">0.43680649995803833</td><td style=\"text-align: center; vertical-align: top; border-right: solid 1px #D3D3D3; border-left: solid 1px #D3D3D3; \">How to Design Professional Venn Diagrams in Python</td></tr>\n",
       "<tr><td style=\"text-align: center; vertical-align: top; border-right: solid 1px #D3D3D3; border-left: solid 1px #D3D3D3; \">funny python demo</td><td style=\"text-align: center; vertical-align: top; border-right: solid 1px #D3D3D3; border-left: solid 1px #D3D3D3; \">1832</td><td style=\"text-align: center; vertical-align: top; border-right: solid 1px #D3D3D3; border-left: solid 1px #D3D3D3; \">0.45723840594291687</td><td style=\"text-align: center; vertical-align: top; border-right: solid 1px #D3D3D3; border-left: solid 1px #D3D3D3; \">How to mock AWS services for rapid local development.</td></tr>\n",
       "<tr><td style=\"text-align: center; vertical-align: top; border-right: solid 1px #D3D3D3; border-left: solid 1px #D3D3D3; \">funny python demo</td><td style=\"text-align: center; vertical-align: top; border-right: solid 1px #D3D3D3; border-left: solid 1px #D3D3D3; \">5671</td><td style=\"text-align: center; vertical-align: top; border-right: solid 1px #D3D3D3; border-left: solid 1px #D3D3D3; \">0.4593276083469391</td><td style=\"text-align: center; vertical-align: top; border-right: solid 1px #D3D3D3; border-left: solid 1px #D3D3D3; \">Adventure into Machine Learning using Python</td></tr>\n",
       "<tr><td style=\"text-align: center; vertical-align: top; border-right: solid 1px #D3D3D3; border-left: solid 1px #D3D3D3; \">funny python demo</td><td style=\"text-align: center; vertical-align: top; border-right: solid 1px #D3D3D3; border-left: solid 1px #D3D3D3; \">1752</td><td style=\"text-align: center; vertical-align: top; border-right: solid 1px #D3D3D3; border-left: solid 1px #D3D3D3; \">0.4645397365093231</td><td style=\"text-align: center; vertical-align: top; border-right: solid 1px #D3D3D3; border-left: solid 1px #D3D3D3; \">Custom neural networks in Keras: a street fighter’s guide to build a graphCNN</td></tr></table>"
      ],
      "text/plain": [
       "<IPython.core.display.HTML object>"
      ]
     },
     "metadata": {},
     "output_type": "display_data"
    }
   ],
   "source": [
    "search_pipe1 = (pipe.input('query')\n",
    "                    .map('query', 'vec', ops.text_embedding.dpr(model_name=\"facebook/dpr-ctx_encoder-single-nq-base\"))\n",
    "                    .map('vec', 'vec', lambda x: x / np.linalg.norm(x, axis=0))\n",
    "                    .flat_map('vec', ('id', 'score', 'title'), ops.ann_search.milvus_client(host=server_host, \n",
    "                                                                                   port=server_port,\n",
    "                                                                                   collection_name='search_article_in_medium',\n",
    "                                                                                   output_fields=['title']))  \n",
    "                    .output('query', 'id', 'score', 'title')\n",
    "               )\n",
    "\n",
    "res = search_pipe1('funny python demo')\n",
    "DataCollection(res).show()"
   ]
  },
  {
   "cell_type": "code",
   "execution_count": 9,
   "id": "334c6fce",
   "metadata": {},
   "outputs": [
    {
     "data": {
      "text/html": [
       "<table style=\"border-collapse: collapse;\"><tr><th style=\"text-align: center; font-size: 130%; border: none;\">query</th> <th style=\"text-align: center; font-size: 130%; border: none;\">id</th> <th style=\"text-align: center; font-size: 130%; border: none;\">score</th> <th style=\"text-align: center; font-size: 130%; border: none;\">title</th> <th style=\"text-align: center; font-size: 130%; border: none;\">link</th> <th style=\"text-align: center; font-size: 130%; border: none;\">reading_time</th> <th style=\"text-align: center; font-size: 130%; border: none;\">publication</th> <th style=\"text-align: center; font-size: 130%; border: none;\">claps</th> <th style=\"text-align: center; font-size: 130%; border: none;\">responses</th></tr>\n",
       "<tr><td style=\"text-align: center; vertical-align: top; border-right: solid 1px #D3D3D3; border-left: solid 1px #D3D3D3; \">funny python demo</td><td style=\"text-align: center; vertical-align: top; border-right: solid 1px #D3D3D3; border-left: solid 1px #D3D3D3; \">3897</td><td style=\"text-align: center; vertical-align: top; border-right: solid 1px #D3D3D3; border-left: solid 1px #D3D3D3; \">0.3737611174583435</td><td style=\"text-align: center; vertical-align: top; border-right: solid 1px #D3D3D3; border-left: solid 1px #D3D3D3; \">Python Coding for Kids — Setting Up For the Adventure</td><td style=\"text-align: center; vertical-align: top; border-right: solid 1px #D3D3D3; border-left: solid 1px #D3D3D3; \">https://medium.com/swlh/python-coding-for-kids-setting-up-for-the-adventure-9be4bef6b24e</td><td style=\"text-align: center; vertical-align: top; border-right: solid 1px #D3D3D3; border-left: solid 1px #D3D3D3; \">14</td><td style=\"text-align: center; vertical-align: top; border-right: solid 1px #D3D3D3; border-left: solid 1px #D3D3D3; \">The Startup</td><td style=\"text-align: center; vertical-align: top; border-right: solid 1px #D3D3D3; border-left: solid 1px #D3D3D3; \">119</td><td style=\"text-align: center; vertical-align: top; border-right: solid 1px #D3D3D3; border-left: solid 1px #D3D3D3; \">2</td></tr>\n",
       "<tr><td style=\"text-align: center; vertical-align: top; border-right: solid 1px #D3D3D3; border-left: solid 1px #D3D3D3; \">funny python demo</td><td style=\"text-align: center; vertical-align: top; border-right: solid 1px #D3D3D3; border-left: solid 1px #D3D3D3; \">1342</td><td style=\"text-align: center; vertical-align: top; border-right: solid 1px #D3D3D3; border-left: solid 1px #D3D3D3; \">0.43680649995803833</td><td style=\"text-align: center; vertical-align: top; border-right: solid 1px #D3D3D3; border-left: solid 1px #D3D3D3; \">How to Design Professional Venn Diagrams in Python</td><td style=\"text-align: center; vertical-align: top; border-right: solid 1px #D3D3D3; border-left: solid 1px #D3D3D3; \">https://towardsdatascience.com/how-to-design-professional-venn-diagrams-in-python-693c9ed2c288</td><td style=\"text-align: center; vertical-align: top; border-right: solid 1px #D3D3D3; border-left: solid 1px #D3D3D3; \">6</td><td style=\"text-align: center; vertical-align: top; border-right: solid 1px #D3D3D3; border-left: solid 1px #D3D3D3; \">Towards Data Science</td><td style=\"text-align: center; vertical-align: top; border-right: solid 1px #D3D3D3; border-left: solid 1px #D3D3D3; \">97</td><td style=\"text-align: center; vertical-align: top; border-right: solid 1px #D3D3D3; border-left: solid 1px #D3D3D3; \">1</td></tr>\n",
       "<tr><td style=\"text-align: center; vertical-align: top; border-right: solid 1px #D3D3D3; border-left: solid 1px #D3D3D3; \">funny python demo</td><td style=\"text-align: center; vertical-align: top; border-right: solid 1px #D3D3D3; border-left: solid 1px #D3D3D3; \">1832</td><td style=\"text-align: center; vertical-align: top; border-right: solid 1px #D3D3D3; border-left: solid 1px #D3D3D3; \">0.45723840594291687</td><td style=\"text-align: center; vertical-align: top; border-right: solid 1px #D3D3D3; border-left: solid 1px #D3D3D3; \">How to mock AWS services for rapid local development.</td><td style=\"text-align: center; vertical-align: top; border-right: solid 1px #D3D3D3; border-left: solid 1px #D3D3D3; \">https://medium.com/swlh/how-to-mock-aws-services-for-rapid-local-development-3d07581ffc3a</td><td style=\"text-align: center; vertical-align: top; border-right: solid 1px #D3D3D3; border-left: solid 1px #D3D3D3; \">3</td><td style=\"text-align: center; vertical-align: top; border-right: solid 1px #D3D3D3; border-left: solid 1px #D3D3D3; \">The Startup</td><td style=\"text-align: center; vertical-align: top; border-right: solid 1px #D3D3D3; border-left: solid 1px #D3D3D3; \">84</td><td style=\"text-align: center; vertical-align: top; border-right: solid 1px #D3D3D3; border-left: solid 1px #D3D3D3; \">0</td></tr>\n",
       "<tr><td style=\"text-align: center; vertical-align: top; border-right: solid 1px #D3D3D3; border-left: solid 1px #D3D3D3; \">funny python demo</td><td style=\"text-align: center; vertical-align: top; border-right: solid 1px #D3D3D3; border-left: solid 1px #D3D3D3; \">5671</td><td style=\"text-align: center; vertical-align: top; border-right: solid 1px #D3D3D3; border-left: solid 1px #D3D3D3; \">0.4593276083469391</td><td style=\"text-align: center; vertical-align: top; border-right: solid 1px #D3D3D3; border-left: solid 1px #D3D3D3; \">Adventure into Machine Learning using Python</td><td style=\"text-align: center; vertical-align: top; border-right: solid 1px #D3D3D3; border-left: solid 1px #D3D3D3; \">https://towardsdatascience.com/adventure-into-machine-learning-using-python-7a85fce81b7d</td><td style=\"text-align: center; vertical-align: top; border-right: solid 1px #D3D3D3; border-left: solid 1px #D3D3D3; \">14</td><td style=\"text-align: center; vertical-align: top; border-right: solid 1px #D3D3D3; border-left: solid 1px #D3D3D3; \">Towards Data Science</td><td style=\"text-align: center; vertical-align: top; border-right: solid 1px #D3D3D3; border-left: solid 1px #D3D3D3; \">25</td><td style=\"text-align: center; vertical-align: top; border-right: solid 1px #D3D3D3; border-left: solid 1px #D3D3D3; \">0</td></tr>\n",
       "<tr><td style=\"text-align: center; vertical-align: top; border-right: solid 1px #D3D3D3; border-left: solid 1px #D3D3D3; \">funny python demo</td><td style=\"text-align: center; vertical-align: top; border-right: solid 1px #D3D3D3; border-left: solid 1px #D3D3D3; \">1752</td><td style=\"text-align: center; vertical-align: top; border-right: solid 1px #D3D3D3; border-left: solid 1px #D3D3D3; \">0.4645397365093231</td><td style=\"text-align: center; vertical-align: top; border-right: solid 1px #D3D3D3; border-left: solid 1px #D3D3D3; \">Custom neural networks in Keras: a street fighter’s guide to build a graphCNN</td><td style=\"text-align: center; vertical-align: top; border-right: solid 1px #D3D3D3; border-left: solid 1px #D3D3D3; \">https://towardsdatascience.com/custom-neural-networks-in-keras-a-street-fighters-guide-to-build-a-graphcnn-e91f6b05f12e</td><td style=\"text-align: center; vertical-align: top; border-right: solid 1px #D3D3D3; border-left: solid 1px #D3D3D3; \">7</td><td style=\"text-align: center; vertical-align: top; border-right: solid 1px #D3D3D3; border-left: solid 1px #D3D3D3; \">Towards Data Science</td><td style=\"text-align: center; vertical-align: top; border-right: solid 1px #D3D3D3; border-left: solid 1px #D3D3D3; \">55</td><td style=\"text-align: center; vertical-align: top; border-right: solid 1px #D3D3D3; border-left: solid 1px #D3D3D3; \">0</td></tr></table>"
      ],
      "text/plain": [
       "<IPython.core.display.HTML object>"
      ]
     },
     "metadata": {},
     "output_type": "display_data"
    }
   ],
   "source": [
    "# milvus search with multi output fields\n",
    "search_pipe2 = (pipe.input('query')\n",
    "                    .map('query', 'vec', ops.text_embedding.dpr(model_name=\"facebook/dpr-ctx_encoder-single-nq-base\"))\n",
    "                    .map('vec', 'vec', lambda x: x / np.linalg.norm(x, axis=0))\n",
    "                    .flat_map('vec', ('id', 'score', 'title', 'link', 'reading_time', 'publication', 'claps', 'responses'), \n",
    "                                       ops.ann_search.milvus_client(host=server_host, \n",
    "                                                                    port=server_port,\n",
    "                                                                    collection_name='search_article_in_medium',\n",
    "                                                                    output_fields=['title', 'link', 'reading_time', 'publication', 'claps', 'responses'], \n",
    "                                                                    limit=5))  \n",
    "                    .output('query', 'id', 'score', 'title', 'link', 'reading_time', 'publication', 'claps', 'responses')\n",
    "               )\n",
    "\n",
    "res = search_pipe2('funny python demo')\n",
    "DataCollection(res).show()"
   ]
  },
  {
   "cell_type": "markdown",
   "id": "6ff903e3",
   "metadata": {},
   "source": [
    "### Search text with some expr\n",
    "\n",
    "\n",
    "In addition, we can also set some expressions for retrieval. For example, we can specify that the beginning of the article is an article in Python by setting expr='title like \"Python%\"':"
   ]
  },
  {
   "cell_type": "code",
   "execution_count": 10,
   "id": "b6b1d85d",
   "metadata": {},
   "outputs": [
    {
     "data": {
      "text/html": [
       "<table style=\"border-collapse: collapse;\"><tr><th style=\"text-align: center; font-size: 130%; border: none;\">query</th> <th style=\"text-align: center; font-size: 130%; border: none;\">id</th> <th style=\"text-align: center; font-size: 130%; border: none;\">score</th> <th style=\"text-align: center; font-size: 130%; border: none;\">title</th> <th style=\"text-align: center; font-size: 130%; border: none;\">link</th> <th style=\"text-align: center; font-size: 130%; border: none;\">reading_time</th> <th style=\"text-align: center; font-size: 130%; border: none;\">publication</th> <th style=\"text-align: center; font-size: 130%; border: none;\">claps</th> <th style=\"text-align: center; font-size: 130%; border: none;\">responses</th></tr>\n",
       "<tr><td style=\"text-align: center; vertical-align: top; border-right: solid 1px #D3D3D3; border-left: solid 1px #D3D3D3; \">funny python demo</td><td style=\"text-align: center; vertical-align: top; border-right: solid 1px #D3D3D3; border-left: solid 1px #D3D3D3; \">3897</td><td style=\"text-align: center; vertical-align: top; border-right: solid 1px #D3D3D3; border-left: solid 1px #D3D3D3; \">0.3737611174583435</td><td style=\"text-align: center; vertical-align: top; border-right: solid 1px #D3D3D3; border-left: solid 1px #D3D3D3; \">Python Coding for Kids — Setting Up For the Adventure</td><td style=\"text-align: center; vertical-align: top; border-right: solid 1px #D3D3D3; border-left: solid 1px #D3D3D3; \">https://medium.com/swlh/python-coding-for-kids-setting-up-for-the-adventure-9be4bef6b24e</td><td style=\"text-align: center; vertical-align: top; border-right: solid 1px #D3D3D3; border-left: solid 1px #D3D3D3; \">14</td><td style=\"text-align: center; vertical-align: top; border-right: solid 1px #D3D3D3; border-left: solid 1px #D3D3D3; \">The Startup</td><td style=\"text-align: center; vertical-align: top; border-right: solid 1px #D3D3D3; border-left: solid 1px #D3D3D3; \">119</td><td style=\"text-align: center; vertical-align: top; border-right: solid 1px #D3D3D3; border-left: solid 1px #D3D3D3; \">2</td></tr>\n",
       "<tr><td style=\"text-align: center; vertical-align: top; border-right: solid 1px #D3D3D3; border-left: solid 1px #D3D3D3; \">funny python demo</td><td style=\"text-align: center; vertical-align: top; border-right: solid 1px #D3D3D3; border-left: solid 1px #D3D3D3; \">4644</td><td style=\"text-align: center; vertical-align: top; border-right: solid 1px #D3D3D3; border-left: solid 1px #D3D3D3; \">0.4937489628791809</td><td style=\"text-align: center; vertical-align: top; border-right: solid 1px #D3D3D3; border-left: solid 1px #D3D3D3; \">Python for Finance — The Complete Beginner’s Guide</td><td style=\"text-align: center; vertical-align: top; border-right: solid 1px #D3D3D3; border-left: solid 1px #D3D3D3; \">https://towardsdatascience.com/python-for-finance-the-complete-beginners-guide-764276d74cef</td><td style=\"text-align: center; vertical-align: top; border-right: solid 1px #D3D3D3; border-left: solid 1px #D3D3D3; \">8</td><td style=\"text-align: center; vertical-align: top; border-right: solid 1px #D3D3D3; border-left: solid 1px #D3D3D3; \">Towards Data Science</td><td style=\"text-align: center; vertical-align: top; border-right: solid 1px #D3D3D3; border-left: solid 1px #D3D3D3; \">292</td><td style=\"text-align: center; vertical-align: top; border-right: solid 1px #D3D3D3; border-left: solid 1px #D3D3D3; \">5</td></tr>\n",
       "<tr><td style=\"text-align: center; vertical-align: top; border-right: solid 1px #D3D3D3; border-left: solid 1px #D3D3D3; \">funny python demo</td><td style=\"text-align: center; vertical-align: top; border-right: solid 1px #D3D3D3; border-left: solid 1px #D3D3D3; \">2736</td><td style=\"text-align: center; vertical-align: top; border-right: solid 1px #D3D3D3; border-left: solid 1px #D3D3D3; \">0.4956967830657959</td><td style=\"text-align: center; vertical-align: top; border-right: solid 1px #D3D3D3; border-left: solid 1px #D3D3D3; \">Python for Beginners — Basics</td><td style=\"text-align: center; vertical-align: top; border-right: solid 1px #D3D3D3; border-left: solid 1px #D3D3D3; \">https://towardsdatascience.com/python-for-beginners-basics-7ac6247bb4f4</td><td style=\"text-align: center; vertical-align: top; border-right: solid 1px #D3D3D3; border-left: solid 1px #D3D3D3; \">7</td><td style=\"text-align: center; vertical-align: top; border-right: solid 1px #D3D3D3; border-left: solid 1px #D3D3D3; \">Towards Data Science</td><td style=\"text-align: center; vertical-align: top; border-right: solid 1px #D3D3D3; border-left: solid 1px #D3D3D3; \">11</td><td style=\"text-align: center; vertical-align: top; border-right: solid 1px #D3D3D3; border-left: solid 1px #D3D3D3; \">0</td></tr>\n",
       "<tr><td style=\"text-align: center; vertical-align: top; border-right: solid 1px #D3D3D3; border-left: solid 1px #D3D3D3; \">funny python demo</td><td style=\"text-align: center; vertical-align: top; border-right: solid 1px #D3D3D3; border-left: solid 1px #D3D3D3; \">1667</td><td style=\"text-align: center; vertical-align: top; border-right: solid 1px #D3D3D3; border-left: solid 1px #D3D3D3; \">0.5019431114196777</td><td style=\"text-align: center; vertical-align: top; border-right: solid 1px #D3D3D3; border-left: solid 1px #D3D3D3; \">Python — How to measure thread execution time in multithreaded application?</td><td style=\"text-align: center; vertical-align: top; border-right: solid 1px #D3D3D3; border-left: solid 1px #D3D3D3; \">https://medium.com/swlh/python-how-to-measure-thread-execution-time-in-multithreaded-application-f4b2e2112091</td><td style=\"text-align: center; vertical-align: top; border-right: solid 1px #D3D3D3; border-left: solid 1px #D3D3D3; \">6</td><td style=\"text-align: center; vertical-align: top; border-right: solid 1px #D3D3D3; border-left: solid 1px #D3D3D3; \">The Startup</td><td style=\"text-align: center; vertical-align: top; border-right: solid 1px #D3D3D3; border-left: solid 1px #D3D3D3; \">55</td><td style=\"text-align: center; vertical-align: top; border-right: solid 1px #D3D3D3; border-left: solid 1px #D3D3D3; \">0</td></tr>\n",
       "<tr><td style=\"text-align: center; vertical-align: top; border-right: solid 1px #D3D3D3; border-left: solid 1px #D3D3D3; \">funny python demo</td><td style=\"text-align: center; vertical-align: top; border-right: solid 1px #D3D3D3; border-left: solid 1px #D3D3D3; \">1298</td><td style=\"text-align: center; vertical-align: top; border-right: solid 1px #D3D3D3; border-left: solid 1px #D3D3D3; \">0.5166990756988525</td><td style=\"text-align: center; vertical-align: top; border-right: solid 1px #D3D3D3; border-left: solid 1px #D3D3D3; \">Python Testing with a mock database (SQL)</td><td style=\"text-align: center; vertical-align: top; border-right: solid 1px #D3D3D3; border-left: solid 1px #D3D3D3; \">https://medium.com/swlh/python-testing-with-a-mock-database-sql-68f676562461</td><td style=\"text-align: center; vertical-align: top; border-right: solid 1px #D3D3D3; border-left: solid 1px #D3D3D3; \">4</td><td style=\"text-align: center; vertical-align: top; border-right: solid 1px #D3D3D3; border-left: solid 1px #D3D3D3; \">The Startup</td><td style=\"text-align: center; vertical-align: top; border-right: solid 1px #D3D3D3; border-left: solid 1px #D3D3D3; \">51</td><td style=\"text-align: center; vertical-align: top; border-right: solid 1px #D3D3D3; border-left: solid 1px #D3D3D3; \">0</td></tr></table>"
      ],
      "text/plain": [
       "<IPython.core.display.HTML object>"
      ]
     },
     "metadata": {},
     "output_type": "display_data"
    }
   ],
   "source": [
    "search_pipe3 = (pipe.input('query')\n",
    "                    .map('query', 'vec', ops.text_embedding.dpr(model_name=\"facebook/dpr-ctx_encoder-single-nq-base\"))\n",
    "                    .map('vec', 'vec', lambda x: x / np.linalg.norm(x, axis=0))\n",
    "                    .flat_map('vec', ('id', 'score', 'title', 'link', 'reading_time', 'publication', 'claps', 'responses'), \n",
    "                                       ops.ann_search.milvus_client(host=server_host, \n",
    "                                                                    port=server_port,\n",
    "                                                                    collection_name='search_article_in_medium',\n",
    "                                                                    expr='title like \"Python%\"',\n",
    "                                                                    output_fields=['title', 'link', 'reading_time', 'publication', 'claps', 'responses'], \n",
    "                                                                    limit=5))  \n",
    "                    .output('query', 'id', 'score', 'title', 'link', 'reading_time', 'publication', 'claps', 'responses')\n",
    "               )\n",
    "\n",
    "res = search_pipe3('funny python demo')\n",
    "DataCollection(res).show()"
   ]
  },
  {
   "cell_type": "markdown",
   "id": "50699084",
   "metadata": {},
   "source": [
    "## 4. Query data in Milvus\n",
    "\n",
    "We have done the text retrieval process before, and we can get articles such as \"Python coding for kids - getting ready for an adventure\" by retrieving \"fun python demos\".\n",
    "\n",
    "We can also do a simple query on the data, we need to set `expr` and `output_fields` with the `collection.query` interface, for example, we can filter out articles with faults greater than 3000 and reading time less than 15 minutes, and submitted to TDS :"
   ]
  },
  {
   "cell_type": "code",
   "execution_count": 11,
   "id": "a35c619f",
   "metadata": {},
   "outputs": [
    {
     "data": {
      "text/plain": [
       "[{'title': 'Top 3 Python Functions You Don’t Know About (Probably)',\n",
       "  'link': 'https://towardsdatascience.com/top-3-python-functions-you-dont-know-about-probably-978f4be1e6d',\n",
       "  'reading_time': 4,\n",
       "  'publication': 'Towards Data Science',\n",
       "  'claps': 4400,\n",
       "  'responses': 20,\n",
       "  'id': 2572},\n",
       " {'title': 'Do You Know Python Has A Built-In Database?',\n",
       "  'link': 'https://towardsdatascience.com/do-you-know-python-has-a-built-in-database-d553989c87bd',\n",
       "  'reading_time': 6,\n",
       "  'publication': 'Towards Data Science',\n",
       "  'claps': 3500,\n",
       "  'responses': 8,\n",
       "  'id': 4639},\n",
       " {'title': 'Machine Learning Engineers Will Not Exist In 10 Years.',\n",
       "  'link': 'https://towardsdatascience.com/machine-learning-engineers-will-not-exist-in-10-years-c9cbbf4472f3',\n",
       "  'reading_time': 6,\n",
       "  'publication': 'Towards Data Science',\n",
       "  'claps': 4600,\n",
       "  'responses': 73,\n",
       "  'id': 5766},\n",
       " {'title': 'I Thought I Was Mastering Python Until I Discovered These Tricks',\n",
       "  'link': 'https://towardsdatascience.com/i-thought-i-was-mastering-python-until-i-discovered-these-tricks-e40d9c71f4e2',\n",
       "  'reading_time': 9,\n",
       "  'publication': 'Towards Data Science',\n",
       "  'claps': 5200,\n",
       "  'responses': 17,\n",
       "  'id': 913},\n",
       " {'title': 'Do Not Use “+” to Join Strings in Python',\n",
       "  'link': 'https://towardsdatascience.com/do-not-use-to-join-strings-in-python-f89908307273',\n",
       "  'reading_time': 5,\n",
       "  'publication': 'Towards Data Science',\n",
       "  'claps': 4200,\n",
       "  'responses': 28,\n",
       "  'id': 1195},\n",
       " {'title': 'How to process a DataFrame with billions of rows in seconds',\n",
       "  'link': 'https://towardsdatascience.com/how-to-process-a-dataframe-with-billions-of-rows-in-seconds-c8212580f447',\n",
       "  'reading_time': 6,\n",
       "  'publication': 'Towards Data Science',\n",
       "  'claps': 3100,\n",
       "  'responses': 18,\n",
       "  'id': 2865},\n",
       " {'title': 'Sorry, Online Courses Won’t Make you a Data Scientist',\n",
       "  'link': 'https://towardsdatascience.com/sorry-online-courses-wont-make-you-a-data-scientist-8639d5f00889',\n",
       "  'reading_time': 8,\n",
       "  'publication': 'Towards Data Science',\n",
       "  'claps': 5000,\n",
       "  'responses': 45,\n",
       "  'id': 4799}]"
      ]
     },
     "execution_count": 11,
     "metadata": {},
     "output_type": "execute_result"
    }
   ],
   "source": [
    "collection.query(\n",
    "  expr = 'claps > 3000 && reading_time < 15 && publication like \"Towards Data Science%\"', \n",
    "  output_fields = ['id', 'title', 'link', 'reading_time', 'publication', 'claps', 'responses'],\n",
    "  consistency_level='Strong'\n",
    ")"
   ]
  },
  {
   "cell_type": "markdown",
   "id": "99e81de7",
   "metadata": {},
   "source": [
    "## Demo of semantic search"
   ]
  },
  {
   "cell_type": "code",
   "execution_count": 12,
   "id": "0ee5c201",
   "metadata": {},
   "outputs": [
    {
     "name": "stdout",
     "output_type": "stream",
     "text": [
      "\n",
      "\"Just do it\" search:\n"
     ]
    },
    {
     "data": {
      "text/html": [
       "<table style=\"border-collapse: collapse;\"><tr><th style=\"text-align: center; font-size: 130%; border: none;\">query</th> <th style=\"text-align: center; font-size: 130%; border: none;\">score</th> <th style=\"text-align: center; font-size: 130%; border: none;\">title</th> <th style=\"text-align: center; font-size: 130%; border: none;\">link</th> <th style=\"text-align: center; font-size: 130%; border: none;\">reading_time</th> <th style=\"text-align: center; font-size: 130%; border: none;\">publication</th> <th style=\"text-align: center; font-size: 130%; border: none;\">claps</th> <th style=\"text-align: center; font-size: 130%; border: none;\">responses</th></tr>\n",
       "<tr><td style=\"text-align: center; vertical-align: top; border-right: solid 1px #D3D3D3; border-left: solid 1px #D3D3D3; \">Just do it</td><td style=\"text-align: center; vertical-align: top; border-right: solid 1px #D3D3D3; border-left: solid 1px #D3D3D3; \">0.5165345072746277</td><td style=\"text-align: center; vertical-align: top; border-right: solid 1px #D3D3D3; border-left: solid 1px #D3D3D3; \">Tune Into Your Body’s Rhythms to Create Your Best Writing Routine</td><td style=\"text-align: center; vertical-align: top; border-right: solid 1px #D3D3D3; border-left: solid 1px #D3D3D3; \">https://medium.com/swlh/tune-into-your-bodys-rhythms-to-create-your-best-writing-routine-4421d97b897c</td><td style=\"text-align: center; vertical-align: top; border-right: solid 1px #D3D3D3; border-left: solid 1px #D3D3D3; \">7</td><td style=\"text-align: center; vertical-align: top; border-right: solid 1px #D3D3D3; border-left: solid 1px #D3D3D3; \">The Startup</td><td style=\"text-align: center; vertical-align: top; border-right: solid 1px #D3D3D3; border-left: solid 1px #D3D3D3; \">96</td><td style=\"text-align: center; vertical-align: top; border-right: solid 1px #D3D3D3; border-left: solid 1px #D3D3D3; \">0</td></tr>\n",
       "<tr><td style=\"text-align: center; vertical-align: top; border-right: solid 1px #D3D3D3; border-left: solid 1px #D3D3D3; \">Just do it</td><td style=\"text-align: center; vertical-align: top; border-right: solid 1px #D3D3D3; border-left: solid 1px #D3D3D3; \">0.521692156791687</td><td style=\"text-align: center; vertical-align: top; border-right: solid 1px #D3D3D3; border-left: solid 1px #D3D3D3; \">Get your idea out there!</td><td style=\"text-align: center; vertical-align: top; border-right: solid 1px #D3D3D3; border-left: solid 1px #D3D3D3; \">https://medium.com/swlh/get-your-idea-out-there-d396b9443d2f</td><td style=\"text-align: center; vertical-align: top; border-right: solid 1px #D3D3D3; border-left: solid 1px #D3D3D3; \">11</td><td style=\"text-align: center; vertical-align: top; border-right: solid 1px #D3D3D3; border-left: solid 1px #D3D3D3; \">The Startup</td><td style=\"text-align: center; vertical-align: top; border-right: solid 1px #D3D3D3; border-left: solid 1px #D3D3D3; \">134</td><td style=\"text-align: center; vertical-align: top; border-right: solid 1px #D3D3D3; border-left: solid 1px #D3D3D3; \">0</td></tr>\n",
       "<tr><td style=\"text-align: center; vertical-align: top; border-right: solid 1px #D3D3D3; border-left: solid 1px #D3D3D3; \">Just do it</td><td style=\"text-align: center; vertical-align: top; border-right: solid 1px #D3D3D3; border-left: solid 1px #D3D3D3; \">0.5453013181686401</td><td style=\"text-align: center; vertical-align: top; border-right: solid 1px #D3D3D3; border-left: solid 1px #D3D3D3; \">Fundraising – Getting Your Mind Right</td><td style=\"text-align: center; vertical-align: top; border-right: solid 1px #D3D3D3; border-left: solid 1px #D3D3D3; \">https://medium.com/swlh/fundraising-getting-your-mind-right-76e6864670b</td><td style=\"text-align: center; vertical-align: top; border-right: solid 1px #D3D3D3; border-left: solid 1px #D3D3D3; \">4</td><td style=\"text-align: center; vertical-align: top; border-right: solid 1px #D3D3D3; border-left: solid 1px #D3D3D3; \">The Startup</td><td style=\"text-align: center; vertical-align: top; border-right: solid 1px #D3D3D3; border-left: solid 1px #D3D3D3; \">51</td><td style=\"text-align: center; vertical-align: top; border-right: solid 1px #D3D3D3; border-left: solid 1px #D3D3D3; \">0</td></tr>\n",
       "<tr><td style=\"text-align: center; vertical-align: top; border-right: solid 1px #D3D3D3; border-left: solid 1px #D3D3D3; \">Just do it</td><td style=\"text-align: center; vertical-align: top; border-right: solid 1px #D3D3D3; border-left: solid 1px #D3D3D3; \">0.5468644499778748</td><td style=\"text-align: center; vertical-align: top; border-right: solid 1px #D3D3D3; border-left: solid 1px #D3D3D3; \">Think Like a Boss and You Will Become One</td><td style=\"text-align: center; vertical-align: top; border-right: solid 1px #D3D3D3; border-left: solid 1px #D3D3D3; \">https://medium.com/swlh/think-like-a-boss-and-you-will-become-one-9236fc5c4b79</td><td style=\"text-align: center; vertical-align: top; border-right: solid 1px #D3D3D3; border-left: solid 1px #D3D3D3; \">8</td><td style=\"text-align: center; vertical-align: top; border-right: solid 1px #D3D3D3; border-left: solid 1px #D3D3D3; \">The Startup</td><td style=\"text-align: center; vertical-align: top; border-right: solid 1px #D3D3D3; border-left: solid 1px #D3D3D3; \">292</td><td style=\"text-align: center; vertical-align: top; border-right: solid 1px #D3D3D3; border-left: solid 1px #D3D3D3; \">1</td></tr>\n",
       "<tr><td style=\"text-align: center; vertical-align: top; border-right: solid 1px #D3D3D3; border-left: solid 1px #D3D3D3; \">Just do it</td><td style=\"text-align: center; vertical-align: top; border-right: solid 1px #D3D3D3; border-left: solid 1px #D3D3D3; \">0.5481520295143127</td><td style=\"text-align: center; vertical-align: top; border-right: solid 1px #D3D3D3; border-left: solid 1px #D3D3D3; \">You Can Learn How to Be Creative.</td><td style=\"text-align: center; vertical-align: top; border-right: solid 1px #D3D3D3; border-left: solid 1px #D3D3D3; \">https://medium.com/swlh/you-can-learn-how-to-be-creative-f1894da4bac5</td><td style=\"text-align: center; vertical-align: top; border-right: solid 1px #D3D3D3; border-left: solid 1px #D3D3D3; \">4</td><td style=\"text-align: center; vertical-align: top; border-right: solid 1px #D3D3D3; border-left: solid 1px #D3D3D3; \">The Startup</td><td style=\"text-align: center; vertical-align: top; border-right: solid 1px #D3D3D3; border-left: solid 1px #D3D3D3; \">89</td><td style=\"text-align: center; vertical-align: top; border-right: solid 1px #D3D3D3; border-left: solid 1px #D3D3D3; \">2</td></tr></table>"
      ],
      "text/plain": [
       "<IPython.core.display.HTML object>"
      ]
     },
     "metadata": {},
     "output_type": "display_data"
    },
    {
     "name": "stdout",
     "output_type": "stream",
     "text": [
      "\n",
      "\"Assemble\" search:\n"
     ]
    },
    {
     "data": {
      "text/html": [
       "<table style=\"border-collapse: collapse;\"><tr><th style=\"text-align: center; font-size: 130%; border: none;\">query</th> <th style=\"text-align: center; font-size: 130%; border: none;\">score</th> <th style=\"text-align: center; font-size: 130%; border: none;\">title</th> <th style=\"text-align: center; font-size: 130%; border: none;\">link</th> <th style=\"text-align: center; font-size: 130%; border: none;\">reading_time</th> <th style=\"text-align: center; font-size: 130%; border: none;\">publication</th> <th style=\"text-align: center; font-size: 130%; border: none;\">claps</th> <th style=\"text-align: center; font-size: 130%; border: none;\">responses</th></tr>\n",
       "<tr><td style=\"text-align: center; vertical-align: top; border-right: solid 1px #D3D3D3; border-left: solid 1px #D3D3D3; \">Assemble</td><td style=\"text-align: center; vertical-align: top; border-right: solid 1px #D3D3D3; border-left: solid 1px #D3D3D3; \">0.5605491399765015</td><td style=\"text-align: center; vertical-align: top; border-right: solid 1px #D3D3D3; border-left: solid 1px #D3D3D3; \">Create A Synthetic Image Dataset — The “What”, The “Why” and The “How”</td><td style=\"text-align: center; vertical-align: top; border-right: solid 1px #D3D3D3; border-left: solid 1px #D3D3D3; \">https://towardsdatascience.com/create-a-synthetic-image-dataset-the-what-the-why-and-the-how-f820e6b6f718</td><td style=\"text-align: center; vertical-align: top; border-right: solid 1px #D3D3D3; border-left: solid 1px #D3D3D3; \">7</td><td style=\"text-align: center; vertical-align: top; border-right: solid 1px #D3D3D3; border-left: solid 1px #D3D3D3; \">Towards Data Science</td><td style=\"text-align: center; vertical-align: top; border-right: solid 1px #D3D3D3; border-left: solid 1px #D3D3D3; \">50</td><td style=\"text-align: center; vertical-align: top; border-right: solid 1px #D3D3D3; border-left: solid 1px #D3D3D3; \">0</td></tr>\n",
       "<tr><td style=\"text-align: center; vertical-align: top; border-right: solid 1px #D3D3D3; border-left: solid 1px #D3D3D3; \">Assemble</td><td style=\"text-align: center; vertical-align: top; border-right: solid 1px #D3D3D3; border-left: solid 1px #D3D3D3; \">0.5605491399765015</td><td style=\"text-align: center; vertical-align: top; border-right: solid 1px #D3D3D3; border-left: solid 1px #D3D3D3; \">Create A Synthetic Image Dataset — The “What”, The “Why” and The “How”</td><td style=\"text-align: center; vertical-align: top; border-right: solid 1px #D3D3D3; border-left: solid 1px #D3D3D3; \">https://towardsdatascience.com/create-a-synthetic-image-dataset-the-what-the-why-and-the-how-f820e6b6f718</td><td style=\"text-align: center; vertical-align: top; border-right: solid 1px #D3D3D3; border-left: solid 1px #D3D3D3; \">7</td><td style=\"text-align: center; vertical-align: top; border-right: solid 1px #D3D3D3; border-left: solid 1px #D3D3D3; \">Towards Data Science</td><td style=\"text-align: center; vertical-align: top; border-right: solid 1px #D3D3D3; border-left: solid 1px #D3D3D3; \">50</td><td style=\"text-align: center; vertical-align: top; border-right: solid 1px #D3D3D3; border-left: solid 1px #D3D3D3; \">0</td></tr>\n",
       "<tr><td style=\"text-align: center; vertical-align: top; border-right: solid 1px #D3D3D3; border-left: solid 1px #D3D3D3; \">Assemble</td><td style=\"text-align: center; vertical-align: top; border-right: solid 1px #D3D3D3; border-left: solid 1px #D3D3D3; \">0.5768184661865234</td><td style=\"text-align: center; vertical-align: top; border-right: solid 1px #D3D3D3; border-left: solid 1px #D3D3D3; \">The Planning Process for Your Organization</td><td style=\"text-align: center; vertical-align: top; border-right: solid 1px #D3D3D3; border-left: solid 1px #D3D3D3; \">https://medium.com/swlh/the-planning-process-for-your-organization-acb61c785dfd</td><td style=\"text-align: center; vertical-align: top; border-right: solid 1px #D3D3D3; border-left: solid 1px #D3D3D3; \">4</td><td style=\"text-align: center; vertical-align: top; border-right: solid 1px #D3D3D3; border-left: solid 1px #D3D3D3; \">The Startup</td><td style=\"text-align: center; vertical-align: top; border-right: solid 1px #D3D3D3; border-left: solid 1px #D3D3D3; \">76</td><td style=\"text-align: center; vertical-align: top; border-right: solid 1px #D3D3D3; border-left: solid 1px #D3D3D3; \">0</td></tr>\n",
       "<tr><td style=\"text-align: center; vertical-align: top; border-right: solid 1px #D3D3D3; border-left: solid 1px #D3D3D3; \">Assemble</td><td style=\"text-align: center; vertical-align: top; border-right: solid 1px #D3D3D3; border-left: solid 1px #D3D3D3; \">0.5851483345031738</td><td style=\"text-align: center; vertical-align: top; border-right: solid 1px #D3D3D3; border-left: solid 1px #D3D3D3; \">Preparing the data for Transformer pre-training — a write-up</td><td style=\"text-align: center; vertical-align: top; border-right: solid 1px #D3D3D3; border-left: solid 1px #D3D3D3; \">https://towardsdatascience.com/preparing-the-data-for-transformer-pre-training-a-write-up-67a9dc0cae5a</td><td style=\"text-align: center; vertical-align: top; border-right: solid 1px #D3D3D3; border-left: solid 1px #D3D3D3; \">3</td><td style=\"text-align: center; vertical-align: top; border-right: solid 1px #D3D3D3; border-left: solid 1px #D3D3D3; \">Towards Data Science</td><td style=\"text-align: center; vertical-align: top; border-right: solid 1px #D3D3D3; border-left: solid 1px #D3D3D3; \">36</td><td style=\"text-align: center; vertical-align: top; border-right: solid 1px #D3D3D3; border-left: solid 1px #D3D3D3; \">0</td></tr>\n",
       "<tr><td style=\"text-align: center; vertical-align: top; border-right: solid 1px #D3D3D3; border-left: solid 1px #D3D3D3; \">Assemble</td><td style=\"text-align: center; vertical-align: top; border-right: solid 1px #D3D3D3; border-left: solid 1px #D3D3D3; \">0.5889052152633667</td><td style=\"text-align: center; vertical-align: top; border-right: solid 1px #D3D3D3; border-left: solid 1px #D3D3D3; \">Creating Async Vue Components</td><td style=\"text-align: center; vertical-align: top; border-right: solid 1px #D3D3D3; border-left: solid 1px #D3D3D3; \">https://medium.com/swlh/creating-async-vue-components-f1c60050270f</td><td style=\"text-align: center; vertical-align: top; border-right: solid 1px #D3D3D3; border-left: solid 1px #D3D3D3; \">3</td><td style=\"text-align: center; vertical-align: top; border-right: solid 1px #D3D3D3; border-left: solid 1px #D3D3D3; \">The Startup</td><td style=\"text-align: center; vertical-align: top; border-right: solid 1px #D3D3D3; border-left: solid 1px #D3D3D3; \">295</td><td style=\"text-align: center; vertical-align: top; border-right: solid 1px #D3D3D3; border-left: solid 1px #D3D3D3; \">0</td></tr></table>"
      ],
      "text/plain": [
       "<IPython.core.display.HTML object>"
      ]
     },
     "metadata": {},
     "output_type": "display_data"
    },
    {
     "name": "stdout",
     "output_type": "stream",
     "text": [
      "\n",
      "\"Show me how i can become a data analyst\" search:\n"
     ]
    },
    {
     "data": {
      "text/html": [
       "<table style=\"border-collapse: collapse;\"><tr><th style=\"text-align: center; font-size: 130%; border: none;\">query</th> <th style=\"text-align: center; font-size: 130%; border: none;\">score</th> <th style=\"text-align: center; font-size: 130%; border: none;\">title</th> <th style=\"text-align: center; font-size: 130%; border: none;\">link</th> <th style=\"text-align: center; font-size: 130%; border: none;\">reading_time</th> <th style=\"text-align: center; font-size: 130%; border: none;\">publication</th> <th style=\"text-align: center; font-size: 130%; border: none;\">claps</th> <th style=\"text-align: center; font-size: 130%; border: none;\">responses</th></tr>\n",
       "<tr><td style=\"text-align: center; vertical-align: top; border-right: solid 1px #D3D3D3; border-left: solid 1px #D3D3D3; \">Show me how i can become a data analyst</td><td style=\"text-align: center; vertical-align: top; border-right: solid 1px #D3D3D3; border-left: solid 1px #D3D3D3; \">0.27770859003067017</td><td style=\"text-align: center; vertical-align: top; border-right: solid 1px #D3D3D3; border-left: solid 1px #D3D3D3; \">How I see a lesson from Flash holds a future of prototyping</td><td style=\"text-align: center; vertical-align: top; border-right: solid 1px #D3D3D3; border-left: solid 1px #D3D3D3; \">https://uxdesign.cc/how-i-see-a-lesson-from-flash-holds-a-future-of-prototyping-9ed1e939232d</td><td style=\"text-align: center; vertical-align: top; border-right: solid 1px #D3D3D3; border-left: solid 1px #D3D3D3; \">11</td><td style=\"text-align: center; vertical-align: top; border-right: solid 1px #D3D3D3; border-left: solid 1px #D3D3D3; \">UX Collective</td><td style=\"text-align: center; vertical-align: top; border-right: solid 1px #D3D3D3; border-left: solid 1px #D3D3D3; \">63</td><td style=\"text-align: center; vertical-align: top; border-right: solid 1px #D3D3D3; border-left: solid 1px #D3D3D3; \">0</td></tr>\n",
       "<tr><td style=\"text-align: center; vertical-align: top; border-right: solid 1px #D3D3D3; border-left: solid 1px #D3D3D3; \">Show me how i can become a data analyst</td><td style=\"text-align: center; vertical-align: top; border-right: solid 1px #D3D3D3; border-left: solid 1px #D3D3D3; \">0.28727468848228455</td><td style=\"text-align: center; vertical-align: top; border-right: solid 1px #D3D3D3; border-left: solid 1px #D3D3D3; \">Find your first job as a Data Scientist</td><td style=\"text-align: center; vertical-align: top; border-right: solid 1px #D3D3D3; border-left: solid 1px #D3D3D3; \">https://towardsdatascience.com/find-your-first-job-as-a-data-scientist-81e4401fe5bf</td><td style=\"text-align: center; vertical-align: top; border-right: solid 1px #D3D3D3; border-left: solid 1px #D3D3D3; \">5</td><td style=\"text-align: center; vertical-align: top; border-right: solid 1px #D3D3D3; border-left: solid 1px #D3D3D3; \">Towards Data Science</td><td style=\"text-align: center; vertical-align: top; border-right: solid 1px #D3D3D3; border-left: solid 1px #D3D3D3; \">248</td><td style=\"text-align: center; vertical-align: top; border-right: solid 1px #D3D3D3; border-left: solid 1px #D3D3D3; \">0</td></tr>\n",
       "<tr><td style=\"text-align: center; vertical-align: top; border-right: solid 1px #D3D3D3; border-left: solid 1px #D3D3D3; \">Show me how i can become a data analyst</td><td style=\"text-align: center; vertical-align: top; border-right: solid 1px #D3D3D3; border-left: solid 1px #D3D3D3; \">0.28865373134613037</td><td style=\"text-align: center; vertical-align: top; border-right: solid 1px #D3D3D3; border-left: solid 1px #D3D3D3; \">What You’ll Learn in 1 Year as a Data Scientist</td><td style=\"text-align: center; vertical-align: top; border-right: solid 1px #D3D3D3; border-left: solid 1px #D3D3D3; \">https://towardsdatascience.com/what-youll-learn-in-1-year-as-a-data-scientist-b69061639653</td><td style=\"text-align: center; vertical-align: top; border-right: solid 1px #D3D3D3; border-left: solid 1px #D3D3D3; \">9</td><td style=\"text-align: center; vertical-align: top; border-right: solid 1px #D3D3D3; border-left: solid 1px #D3D3D3; \">Towards Data Science</td><td style=\"text-align: center; vertical-align: top; border-right: solid 1px #D3D3D3; border-left: solid 1px #D3D3D3; \">161</td><td style=\"text-align: center; vertical-align: top; border-right: solid 1px #D3D3D3; border-left: solid 1px #D3D3D3; \">2</td></tr>\n",
       "<tr><td style=\"text-align: center; vertical-align: top; border-right: solid 1px #D3D3D3; border-left: solid 1px #D3D3D3; \">Show me how i can become a data analyst</td><td style=\"text-align: center; vertical-align: top; border-right: solid 1px #D3D3D3; border-left: solid 1px #D3D3D3; \">0.29635393619537354</td><td style=\"text-align: center; vertical-align: top; border-right: solid 1px #D3D3D3; border-left: solid 1px #D3D3D3; \">Why I love being a data scientist</td><td style=\"text-align: center; vertical-align: top; border-right: solid 1px #D3D3D3; border-left: solid 1px #D3D3D3; \">https://towardsdatascience.com/why-i-love-being-a-data-scientist-b4e2de7292e7</td><td style=\"text-align: center; vertical-align: top; border-right: solid 1px #D3D3D3; border-left: solid 1px #D3D3D3; \">6</td><td style=\"text-align: center; vertical-align: top; border-right: solid 1px #D3D3D3; border-left: solid 1px #D3D3D3; \">Towards Data Science</td><td style=\"text-align: center; vertical-align: top; border-right: solid 1px #D3D3D3; border-left: solid 1px #D3D3D3; \">183</td><td style=\"text-align: center; vertical-align: top; border-right: solid 1px #D3D3D3; border-left: solid 1px #D3D3D3; \">1</td></tr>\n",
       "<tr><td style=\"text-align: center; vertical-align: top; border-right: solid 1px #D3D3D3; border-left: solid 1px #D3D3D3; \">Show me how i can become a data analyst</td><td style=\"text-align: center; vertical-align: top; border-right: solid 1px #D3D3D3; border-left: solid 1px #D3D3D3; \">0.29917922616004944</td><td style=\"text-align: center; vertical-align: top; border-right: solid 1px #D3D3D3; border-left: solid 1px #D3D3D3; \">Make Your Data Models Into Websites</td><td style=\"text-align: center; vertical-align: top; border-right: solid 1px #D3D3D3; border-left: solid 1px #D3D3D3; \">https://towardsdatascience.com/make-your-data-models-into-websites-d7260956c6d7</td><td style=\"text-align: center; vertical-align: top; border-right: solid 1px #D3D3D3; border-left: solid 1px #D3D3D3; \">6</td><td style=\"text-align: center; vertical-align: top; border-right: solid 1px #D3D3D3; border-left: solid 1px #D3D3D3; \">Towards Data Science</td><td style=\"text-align: center; vertical-align: top; border-right: solid 1px #D3D3D3; border-left: solid 1px #D3D3D3; \">95</td><td style=\"text-align: center; vertical-align: top; border-right: solid 1px #D3D3D3; border-left: solid 1px #D3D3D3; \">0</td></tr></table>"
      ],
      "text/plain": [
       "<IPython.core.display.HTML object>"
      ]
     },
     "metadata": {},
     "output_type": "display_data"
    }
   ],
   "source": [
    "# Variables specifying what column and collection to perform ANN comparrison against\n",
    "vector_columns = ['title_vector']\n",
    "collection_name = 'search_article_in_medium'\n",
    "\n",
    "# What columns to return for view\n",
    "response_output = ['title', 'link', 'reading_time', 'publication', 'claps', 'responses']\n",
    "\n",
    "\n",
    "demo_pipe = (pipe.input('query')\n",
    "                    .map('query', 'vec', ops.text_embedding.dpr(model_name=\"facebook/dpr-ctx_encoder-single-nq-base\"))\n",
    "                    .map('vec', 'vec', lambda x: x / np.linalg.norm(x, axis=0))\n",
    "                    .flat_map('vec', ('id', 'score', 'title', 'link', 'reading_time', 'publication', 'claps', 'responses'), \n",
    "                                       ops.ann_search.milvus_client(host=server_host, \n",
    "                                                                    port=server_port,\n",
    "                                                                    collection_name=collection_name,\n",
    "                                                                    vector_field=vector_columns,\n",
    "                                                                    output_fields=response_output, \n",
    "                                                                    limit=5))  \n",
    "                    .output(*['query', 'score'], *response_output)\n",
    "               )\n",
    "\n",
    "print('\\n\"Just do it\" search:')\n",
    "res_semantic1 = demo_pipe('Just do it')\n",
    "DataCollection(res_semantic1).show()\n",
    "\n",
    "print('\\n\"Assemble\" search:')\n",
    "res_semantic2 = demo_pipe('Assemble')\n",
    "DataCollection(res_semantic2).show()\n",
    "\n",
    "print('\\n\"Show me how i can become a data analyst\" search:')\n",
    "res_semantic3 = demo_pipe('Show me how i can become a data analyst')\n",
    "DataCollection(res_semantic3).show()"
   ]
  },
  {
   "cell_type": "code",
   "execution_count": 13,
   "id": "f00502ad",
   "metadata": {},
   "outputs": [
    {
     "name": "stdout",
     "output_type": "stream",
     "text": [
      "\n",
      "\"What are the latest breakthroughs in machines understanding human speech?\" search:\n"
     ]
    },
    {
     "data": {
      "text/html": [
       "<table style=\"border-collapse: collapse;\"><tr><th style=\"text-align: center; font-size: 130%; border: none;\">query</th> <th style=\"text-align: center; font-size: 130%; border: none;\">score</th> <th style=\"text-align: center; font-size: 130%; border: none;\">title</th> <th style=\"text-align: center; font-size: 130%; border: none;\">link</th> <th style=\"text-align: center; font-size: 130%; border: none;\">reading_time</th> <th style=\"text-align: center; font-size: 130%; border: none;\">publication</th> <th style=\"text-align: center; font-size: 130%; border: none;\">claps</th> <th style=\"text-align: center; font-size: 130%; border: none;\">responses</th></tr>\n",
       "<tr><td style=\"text-align: center; vertical-align: top; border-right: solid 1px #D3D3D3; border-left: solid 1px #D3D3D3; \">What are the latest breakthroughs in machines understanding human speech?</td><td style=\"text-align: center; vertical-align: top; border-right: solid 1px #D3D3D3; border-left: solid 1px #D3D3D3; \">0.1925591677427292</td><td style=\"text-align: center; vertical-align: top; border-right: solid 1px #D3D3D3; border-left: solid 1px #D3D3D3; \">What do various countries’ healthcare capacities look like?</td><td style=\"text-align: center; vertical-align: top; border-right: solid 1px #D3D3D3; border-left: solid 1px #D3D3D3; \">https://towardsdatascience.com/what-do-various-countries-healthcare-capacities-look-like-1581896a0601</td><td style=\"text-align: center; vertical-align: top; border-right: solid 1px #D3D3D3; border-left: solid 1px #D3D3D3; \">8</td><td style=\"text-align: center; vertical-align: top; border-right: solid 1px #D3D3D3; border-left: solid 1px #D3D3D3; \">Towards Data Science</td><td style=\"text-align: center; vertical-align: top; border-right: solid 1px #D3D3D3; border-left: solid 1px #D3D3D3; \">1400</td><td style=\"text-align: center; vertical-align: top; border-right: solid 1px #D3D3D3; border-left: solid 1px #D3D3D3; \">15</td></tr>\n",
       "<tr><td style=\"text-align: center; vertical-align: top; border-right: solid 1px #D3D3D3; border-left: solid 1px #D3D3D3; \">What are the latest breakthroughs in machines understanding human speech?</td><td style=\"text-align: center; vertical-align: top; border-right: solid 1px #D3D3D3; border-left: solid 1px #D3D3D3; \">0.21544405817985535</td><td style=\"text-align: center; vertical-align: top; border-right: solid 1px #D3D3D3; border-left: solid 1px #D3D3D3; \">What can we do to humanise our user’s experience?</td><td style=\"text-align: center; vertical-align: top; border-right: solid 1px #D3D3D3; border-left: solid 1px #D3D3D3; \">https://uxdesign.cc/what-can-we-do-to-humanise-our-users-experience-98f6fda33609</td><td style=\"text-align: center; vertical-align: top; border-right: solid 1px #D3D3D3; border-left: solid 1px #D3D3D3; \">5</td><td style=\"text-align: center; vertical-align: top; border-right: solid 1px #D3D3D3; border-left: solid 1px #D3D3D3; \">UX Collective</td><td style=\"text-align: center; vertical-align: top; border-right: solid 1px #D3D3D3; border-left: solid 1px #D3D3D3; \">31</td><td style=\"text-align: center; vertical-align: top; border-right: solid 1px #D3D3D3; border-left: solid 1px #D3D3D3; \">0</td></tr>\n",
       "<tr><td style=\"text-align: center; vertical-align: top; border-right: solid 1px #D3D3D3; border-left: solid 1px #D3D3D3; \">What are the latest breakthroughs in machines understanding human speech?</td><td style=\"text-align: center; vertical-align: top; border-right: solid 1px #D3D3D3; border-left: solid 1px #D3D3D3; \">0.2324463427066803</td><td style=\"text-align: center; vertical-align: top; border-right: solid 1px #D3D3D3; border-left: solid 1px #D3D3D3; \">Where is the AI Strategy for Peace?</td><td style=\"text-align: center; vertical-align: top; border-right: solid 1px #D3D3D3; border-left: solid 1px #D3D3D3; \">https://towardsdatascience.com/where-is-the-ai-strategy-for-peace-a89c1c681fe9</td><td style=\"text-align: center; vertical-align: top; border-right: solid 1px #D3D3D3; border-left: solid 1px #D3D3D3; \">5</td><td style=\"text-align: center; vertical-align: top; border-right: solid 1px #D3D3D3; border-left: solid 1px #D3D3D3; \">Towards Data Science</td><td style=\"text-align: center; vertical-align: top; border-right: solid 1px #D3D3D3; border-left: solid 1px #D3D3D3; \">123</td><td style=\"text-align: center; vertical-align: top; border-right: solid 1px #D3D3D3; border-left: solid 1px #D3D3D3; \">1</td></tr>\n",
       "<tr><td style=\"text-align: center; vertical-align: top; border-right: solid 1px #D3D3D3; border-left: solid 1px #D3D3D3; \">What are the latest breakthroughs in machines understanding human speech?</td><td style=\"text-align: center; vertical-align: top; border-right: solid 1px #D3D3D3; border-left: solid 1px #D3D3D3; \">0.23303377628326416</td><td style=\"text-align: center; vertical-align: top; border-right: solid 1px #D3D3D3; border-left: solid 1px #D3D3D3; \">How Quantum is the Uncertainty Principle?</td><td style=\"text-align: center; vertical-align: top; border-right: solid 1px #D3D3D3; border-left: solid 1px #D3D3D3; \">https://medium.com/swlh/how-quantum-is-the-uncertainty-principle-4569eb7a9eb1</td><td style=\"text-align: center; vertical-align: top; border-right: solid 1px #D3D3D3; border-left: solid 1px #D3D3D3; \">8</td><td style=\"text-align: center; vertical-align: top; border-right: solid 1px #D3D3D3; border-left: solid 1px #D3D3D3; \">The Startup</td><td style=\"text-align: center; vertical-align: top; border-right: solid 1px #D3D3D3; border-left: solid 1px #D3D3D3; \">104</td><td style=\"text-align: center; vertical-align: top; border-right: solid 1px #D3D3D3; border-left: solid 1px #D3D3D3; \">6</td></tr>\n",
       "<tr><td style=\"text-align: center; vertical-align: top; border-right: solid 1px #D3D3D3; border-left: solid 1px #D3D3D3; \">What are the latest breakthroughs in machines understanding human speech?</td><td style=\"text-align: center; vertical-align: top; border-right: solid 1px #D3D3D3; border-left: solid 1px #D3D3D3; \">0.2340763509273529</td><td style=\"text-align: center; vertical-align: top; border-right: solid 1px #D3D3D3; border-left: solid 1px #D3D3D3; \">What does the Network see?</td><td style=\"text-align: center; vertical-align: top; border-right: solid 1px #D3D3D3; border-left: solid 1px #D3D3D3; \">https://towardsdatascience.com/what-does-the-network-see-4fec5aa4d2eb</td><td style=\"text-align: center; vertical-align: top; border-right: solid 1px #D3D3D3; border-left: solid 1px #D3D3D3; \">5</td><td style=\"text-align: center; vertical-align: top; border-right: solid 1px #D3D3D3; border-left: solid 1px #D3D3D3; \">Towards Data Science</td><td style=\"text-align: center; vertical-align: top; border-right: solid 1px #D3D3D3; border-left: solid 1px #D3D3D3; \">10</td><td style=\"text-align: center; vertical-align: top; border-right: solid 1px #D3D3D3; border-left: solid 1px #D3D3D3; \">0</td></tr></table>"
      ],
      "text/plain": [
       "<IPython.core.display.HTML object>"
      ]
     },
     "metadata": {},
     "output_type": "display_data"
    },
    {
     "name": "stdout",
     "output_type": "stream",
     "text": [
      "\n",
      "\"How does predictive modeling transform decision-making in industries?\" search:\n"
     ]
    },
    {
     "data": {
      "text/html": [
       "<table style=\"border-collapse: collapse;\"><tr><th style=\"text-align: center; font-size: 130%; border: none;\">query</th> <th style=\"text-align: center; font-size: 130%; border: none;\">score</th> <th style=\"text-align: center; font-size: 130%; border: none;\">title</th> <th style=\"text-align: center; font-size: 130%; border: none;\">link</th> <th style=\"text-align: center; font-size: 130%; border: none;\">reading_time</th> <th style=\"text-align: center; font-size: 130%; border: none;\">publication</th> <th style=\"text-align: center; font-size: 130%; border: none;\">claps</th> <th style=\"text-align: center; font-size: 130%; border: none;\">responses</th></tr>\n",
       "<tr><td style=\"text-align: center; vertical-align: top; border-right: solid 1px #D3D3D3; border-left: solid 1px #D3D3D3; \">How does predictive modeling transform decision-making in industries?</td><td style=\"text-align: center; vertical-align: top; border-right: solid 1px #D3D3D3; border-left: solid 1px #D3D3D3; \">0.18134719133377075</td><td style=\"text-align: center; vertical-align: top; border-right: solid 1px #D3D3D3; border-left: solid 1px #D3D3D3; \">How does data science create value for firms?</td><td style=\"text-align: center; vertical-align: top; border-right: solid 1px #D3D3D3; border-left: solid 1px #D3D3D3; \">https://towardsdatascience.com/how-does-data-science-create-value-for-firms-a3e3e5ca86e3</td><td style=\"text-align: center; vertical-align: top; border-right: solid 1px #D3D3D3; border-left: solid 1px #D3D3D3; \">19</td><td style=\"text-align: center; vertical-align: top; border-right: solid 1px #D3D3D3; border-left: solid 1px #D3D3D3; \">Towards Data Science</td><td style=\"text-align: center; vertical-align: top; border-right: solid 1px #D3D3D3; border-left: solid 1px #D3D3D3; \">24</td><td style=\"text-align: center; vertical-align: top; border-right: solid 1px #D3D3D3; border-left: solid 1px #D3D3D3; \">0</td></tr>\n",
       "<tr><td style=\"text-align: center; vertical-align: top; border-right: solid 1px #D3D3D3; border-left: solid 1px #D3D3D3; \">How does predictive modeling transform decision-making in industries?</td><td style=\"text-align: center; vertical-align: top; border-right: solid 1px #D3D3D3; border-left: solid 1px #D3D3D3; \">0.19828462600708008</td><td style=\"text-align: center; vertical-align: top; border-right: solid 1px #D3D3D3; border-left: solid 1px #D3D3D3; \">How can Machine Learning algorithms include better Causality?</td><td style=\"text-align: center; vertical-align: top; border-right: solid 1px #D3D3D3; border-left: solid 1px #D3D3D3; \">https://medium.com/swlh/how-can-machine-learning-algorithms-include-better-causality-e869ca60e54d</td><td style=\"text-align: center; vertical-align: top; border-right: solid 1px #D3D3D3; border-left: solid 1px #D3D3D3; \">9</td><td style=\"text-align: center; vertical-align: top; border-right: solid 1px #D3D3D3; border-left: solid 1px #D3D3D3; \">The Startup</td><td style=\"text-align: center; vertical-align: top; border-right: solid 1px #D3D3D3; border-left: solid 1px #D3D3D3; \">437</td><td style=\"text-align: center; vertical-align: top; border-right: solid 1px #D3D3D3; border-left: solid 1px #D3D3D3; \">2</td></tr>\n",
       "<tr><td style=\"text-align: center; vertical-align: top; border-right: solid 1px #D3D3D3; border-left: solid 1px #D3D3D3; \">How does predictive modeling transform decision-making in industries?</td><td style=\"text-align: center; vertical-align: top; border-right: solid 1px #D3D3D3; border-left: solid 1px #D3D3D3; \">0.19828462600708008</td><td style=\"text-align: center; vertical-align: top; border-right: solid 1px #D3D3D3; border-left: solid 1px #D3D3D3; \">How can Machine Learning algorithms include better Causality?</td><td style=\"text-align: center; vertical-align: top; border-right: solid 1px #D3D3D3; border-left: solid 1px #D3D3D3; \">https://medium.com/swlh/how-can-machine-learning-algorithms-include-better-causality-e869ca60e54d</td><td style=\"text-align: center; vertical-align: top; border-right: solid 1px #D3D3D3; border-left: solid 1px #D3D3D3; \">9</td><td style=\"text-align: center; vertical-align: top; border-right: solid 1px #D3D3D3; border-left: solid 1px #D3D3D3; \">The Startup</td><td style=\"text-align: center; vertical-align: top; border-right: solid 1px #D3D3D3; border-left: solid 1px #D3D3D3; \">437</td><td style=\"text-align: center; vertical-align: top; border-right: solid 1px #D3D3D3; border-left: solid 1px #D3D3D3; \">2</td></tr>\n",
       "<tr><td style=\"text-align: center; vertical-align: top; border-right: solid 1px #D3D3D3; border-left: solid 1px #D3D3D3; \">How does predictive modeling transform decision-making in industries?</td><td style=\"text-align: center; vertical-align: top; border-right: solid 1px #D3D3D3; border-left: solid 1px #D3D3D3; \">0.20266178250312805</td><td style=\"text-align: center; vertical-align: top; border-right: solid 1px #D3D3D3; border-left: solid 1px #D3D3D3; \">How to perform Data Analysis using the CRISP-DM approach?</td><td style=\"text-align: center; vertical-align: top; border-right: solid 1px #D3D3D3; border-left: solid 1px #D3D3D3; \">https://towardsdatascience.com/how-to-perform-data-analysis-using-the-crisp-dm-approach-201708f220b2</td><td style=\"text-align: center; vertical-align: top; border-right: solid 1px #D3D3D3; border-left: solid 1px #D3D3D3; \">6</td><td style=\"text-align: center; vertical-align: top; border-right: solid 1px #D3D3D3; border-left: solid 1px #D3D3D3; \">Towards Data Science</td><td style=\"text-align: center; vertical-align: top; border-right: solid 1px #D3D3D3; border-left: solid 1px #D3D3D3; \">26</td><td style=\"text-align: center; vertical-align: top; border-right: solid 1px #D3D3D3; border-left: solid 1px #D3D3D3; \">0</td></tr>\n",
       "<tr><td style=\"text-align: center; vertical-align: top; border-right: solid 1px #D3D3D3; border-left: solid 1px #D3D3D3; \">How does predictive modeling transform decision-making in industries?</td><td style=\"text-align: center; vertical-align: top; border-right: solid 1px #D3D3D3; border-left: solid 1px #D3D3D3; \">0.22522974014282227</td><td style=\"text-align: center; vertical-align: top; border-right: solid 1px #D3D3D3; border-left: solid 1px #D3D3D3; \">Can machine learning help build a better stock portfolio?</td><td style=\"text-align: center; vertical-align: top; border-right: solid 1px #D3D3D3; border-left: solid 1px #D3D3D3; \">https://towardsdatascience.com/can-machine-learning-help-build-a-better-stock-portfolio-8e4b3334a49</td><td style=\"text-align: center; vertical-align: top; border-right: solid 1px #D3D3D3; border-left: solid 1px #D3D3D3; \">8</td><td style=\"text-align: center; vertical-align: top; border-right: solid 1px #D3D3D3; border-left: solid 1px #D3D3D3; \">Towards Data Science</td><td style=\"text-align: center; vertical-align: top; border-right: solid 1px #D3D3D3; border-left: solid 1px #D3D3D3; \">180</td><td style=\"text-align: center; vertical-align: top; border-right: solid 1px #D3D3D3; border-left: solid 1px #D3D3D3; \">1</td></tr></table>"
      ],
      "text/plain": [
       "<IPython.core.display.HTML object>"
      ]
     },
     "metadata": {},
     "output_type": "display_data"
    },
    {
     "name": "stdout",
     "output_type": "stream",
     "text": [
      "\n",
      "\"How can a company cultivate a culture of trust and innovation among its employees?\" search:\n"
     ]
    },
    {
     "data": {
      "text/html": [
       "<table style=\"border-collapse: collapse;\"><tr><th style=\"text-align: center; font-size: 130%; border: none;\">query</th> <th style=\"text-align: center; font-size: 130%; border: none;\">score</th> <th style=\"text-align: center; font-size: 130%; border: none;\">title</th> <th style=\"text-align: center; font-size: 130%; border: none;\">link</th> <th style=\"text-align: center; font-size: 130%; border: none;\">reading_time</th> <th style=\"text-align: center; font-size: 130%; border: none;\">publication</th> <th style=\"text-align: center; font-size: 130%; border: none;\">claps</th> <th style=\"text-align: center; font-size: 130%; border: none;\">responses</th></tr>\n",
       "<tr><td style=\"text-align: center; vertical-align: top; border-right: solid 1px #D3D3D3; border-left: solid 1px #D3D3D3; \">How can a company cultivate a culture of trust and innovation among its employees?</td><td style=\"text-align: center; vertical-align: top; border-right: solid 1px #D3D3D3; border-left: solid 1px #D3D3D3; \">0.1816233992576599</td><td style=\"text-align: center; vertical-align: top; border-right: solid 1px #D3D3D3; border-left: solid 1px #D3D3D3; \">How to Build an Outstanding Company Culture?</td><td style=\"text-align: center; vertical-align: top; border-right: solid 1px #D3D3D3; border-left: solid 1px #D3D3D3; \">https://medium.com/swlh/a-human-oriented-framework-to-build-a-great-company-culture-d97ff49e6766</td><td style=\"text-align: center; vertical-align: top; border-right: solid 1px #D3D3D3; border-left: solid 1px #D3D3D3; \">4</td><td style=\"text-align: center; vertical-align: top; border-right: solid 1px #D3D3D3; border-left: solid 1px #D3D3D3; \">The Startup</td><td style=\"text-align: center; vertical-align: top; border-right: solid 1px #D3D3D3; border-left: solid 1px #D3D3D3; \">45</td><td style=\"text-align: center; vertical-align: top; border-right: solid 1px #D3D3D3; border-left: solid 1px #D3D3D3; \">0</td></tr>\n",
       "<tr><td style=\"text-align: center; vertical-align: top; border-right: solid 1px #D3D3D3; border-left: solid 1px #D3D3D3; \">How can a company cultivate a culture of trust and innovation among its employees?</td><td style=\"text-align: center; vertical-align: top; border-right: solid 1px #D3D3D3; border-left: solid 1px #D3D3D3; \">0.19165019690990448</td><td style=\"text-align: center; vertical-align: top; border-right: solid 1px #D3D3D3; border-left: solid 1px #D3D3D3; \">How Can Organizations Learn Effectively?</td><td style=\"text-align: center; vertical-align: top; border-right: solid 1px #D3D3D3; border-left: solid 1px #D3D3D3; \">https://medium.com/swlh/the-keys-to-organizational-learning-9ba46bbcd7bc</td><td style=\"text-align: center; vertical-align: top; border-right: solid 1px #D3D3D3; border-left: solid 1px #D3D3D3; \">7</td><td style=\"text-align: center; vertical-align: top; border-right: solid 1px #D3D3D3; border-left: solid 1px #D3D3D3; \">The Startup</td><td style=\"text-align: center; vertical-align: top; border-right: solid 1px #D3D3D3; border-left: solid 1px #D3D3D3; \">208</td><td style=\"text-align: center; vertical-align: top; border-right: solid 1px #D3D3D3; border-left: solid 1px #D3D3D3; \">1</td></tr>\n",
       "<tr><td style=\"text-align: center; vertical-align: top; border-right: solid 1px #D3D3D3; border-left: solid 1px #D3D3D3; \">How can a company cultivate a culture of trust and innovation among its employees?</td><td style=\"text-align: center; vertical-align: top; border-right: solid 1px #D3D3D3; border-left: solid 1px #D3D3D3; \">0.21524107456207275</td><td style=\"text-align: center; vertical-align: top; border-right: solid 1px #D3D3D3; border-left: solid 1px #D3D3D3; \">Why is a clear value proposition essential for any startup or growing business?</td><td style=\"text-align: center; vertical-align: top; border-right: solid 1px #D3D3D3; border-left: solid 1px #D3D3D3; \">https://uxdesign.cc/why-is-a-clear-value-proposition-essential-for-any-startup-or-growing-business-f0fce3446a3f</td><td style=\"text-align: center; vertical-align: top; border-right: solid 1px #D3D3D3; border-left: solid 1px #D3D3D3; \">3</td><td style=\"text-align: center; vertical-align: top; border-right: solid 1px #D3D3D3; border-left: solid 1px #D3D3D3; \">UX Collective</td><td style=\"text-align: center; vertical-align: top; border-right: solid 1px #D3D3D3; border-left: solid 1px #D3D3D3; \">83</td><td style=\"text-align: center; vertical-align: top; border-right: solid 1px #D3D3D3; border-left: solid 1px #D3D3D3; \">0</td></tr>\n",
       "<tr><td style=\"text-align: center; vertical-align: top; border-right: solid 1px #D3D3D3; border-left: solid 1px #D3D3D3; \">How can a company cultivate a culture of trust and innovation among its employees?</td><td style=\"text-align: center; vertical-align: top; border-right: solid 1px #D3D3D3; border-left: solid 1px #D3D3D3; \">0.23466737568378448</td><td style=\"text-align: center; vertical-align: top; border-right: solid 1px #D3D3D3; border-left: solid 1px #D3D3D3; \">How does data science create value for firms?</td><td style=\"text-align: center; vertical-align: top; border-right: solid 1px #D3D3D3; border-left: solid 1px #D3D3D3; \">https://towardsdatascience.com/how-does-data-science-create-value-for-firms-a3e3e5ca86e3</td><td style=\"text-align: center; vertical-align: top; border-right: solid 1px #D3D3D3; border-left: solid 1px #D3D3D3; \">19</td><td style=\"text-align: center; vertical-align: top; border-right: solid 1px #D3D3D3; border-left: solid 1px #D3D3D3; \">Towards Data Science</td><td style=\"text-align: center; vertical-align: top; border-right: solid 1px #D3D3D3; border-left: solid 1px #D3D3D3; \">24</td><td style=\"text-align: center; vertical-align: top; border-right: solid 1px #D3D3D3; border-left: solid 1px #D3D3D3; \">0</td></tr>\n",
       "<tr><td style=\"text-align: center; vertical-align: top; border-right: solid 1px #D3D3D3; border-left: solid 1px #D3D3D3; \">How can a company cultivate a culture of trust and innovation among its employees?</td><td style=\"text-align: center; vertical-align: top; border-right: solid 1px #D3D3D3; border-left: solid 1px #D3D3D3; \">0.25606366991996765</td><td style=\"text-align: center; vertical-align: top; border-right: solid 1px #D3D3D3; border-left: solid 1px #D3D3D3; \">What Makes a Social Media Campaign Innovative?</td><td style=\"text-align: center; vertical-align: top; border-right: solid 1px #D3D3D3; border-left: solid 1px #D3D3D3; \">https://medium.com/swlh/what-makes-a-social-media-campaign-innovative-2f65d8c51ab</td><td style=\"text-align: center; vertical-align: top; border-right: solid 1px #D3D3D3; border-left: solid 1px #D3D3D3; \">4</td><td style=\"text-align: center; vertical-align: top; border-right: solid 1px #D3D3D3; border-left: solid 1px #D3D3D3; \">The Startup</td><td style=\"text-align: center; vertical-align: top; border-right: solid 1px #D3D3D3; border-left: solid 1px #D3D3D3; \">51</td><td style=\"text-align: center; vertical-align: top; border-right: solid 1px #D3D3D3; border-left: solid 1px #D3D3D3; \">0</td></tr></table>"
      ],
      "text/plain": [
       "<IPython.core.display.HTML object>"
      ]
     },
     "metadata": {},
     "output_type": "display_data"
    }
   ],
   "source": [
    "# Search by questions\n",
    "\n",
    "#question_0 = \"How can modern software enhance the efficiency of complex computational tasks?\"\n",
    "question_1 = \"What are the latest breakthroughs in machines understanding human speech?\"\n",
    "#question_2 = \"In what ways can an individual improve their creative expression?\"\n",
    "#question_3 = \"What are the key principles in creating a user-friendly digital interface?\"\n",
    "#question_4 = \"What factors should entrepreneurs consider for successful business growth in a digital age?\"\n",
    "#question_5 = \"What foundational skills are essential for analyzing large datasets effectively?\"\n",
    "#question_6 = \"What should newcomers understand before investing in cryptocurrency?\"\n",
    "question_7 = \"How does predictive modeling transform decision-making in industries?\"\n",
    "#question_8 = \"What strategies are crucial for a brand to stand out in a competitive market?\"\n",
    "question_9 = \"How can a company cultivate a culture of trust and innovation among its employees?\"\n",
    "\n",
    "print(f'\\n\"{question_1}\" search:')\n",
    "res_question1 = demo_pipe(question_1)\n",
    "DataCollection(res_question1).show()\n",
    "\n",
    "print(f'\\n\"{question_7}\" search:')\n",
    "res_question2 = demo_pipe(question_7)\n",
    "DataCollection(res_question2).show()\n",
    "\n",
    "print(f'\\n\"{question_9}\" search:')\n",
    "res_question3 = demo_pipe(question_9)\n",
    "DataCollection(res_question3).show()"
   ]
  }
 ],
 "metadata": {
  "kernelspec": {
   "display_name": "Python 3 (ipykernel)",
   "language": "python",
   "name": "python3"
  },
  "language_info": {
   "codemirror_mode": {
    "name": "ipython",
    "version": 3
   },
   "file_extension": ".py",
   "mimetype": "text/x-python",
   "name": "python",
   "nbconvert_exporter": "python",
   "pygments_lexer": "ipython3",
   "version": "3.10.0"
  }
 },
 "nbformat": 4,
 "nbformat_minor": 5
}
